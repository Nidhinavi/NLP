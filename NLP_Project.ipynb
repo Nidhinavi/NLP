{
  "nbformat": 4,
  "nbformat_minor": 0,
  "metadata": {
    "colab": {
      "provenance": [],
      "mount_file_id": "1XoJXPtA6dR5zVeE1NkEDbZ0Xci1gI0wu",
      "authorship_tag": "ABX9TyOfYNDPTth9lX+pBmZMe6sS",
      "include_colab_link": true
    },
    "kernelspec": {
      "name": "python3",
      "display_name": "Python 3"
    },
    "language_info": {
      "name": "python"
    }
  },
  "cells": [
    {
      "cell_type": "markdown",
      "metadata": {
        "id": "view-in-github",
        "colab_type": "text"
      },
      "source": [
        "<a href=\"https://colab.research.google.com/github/Nidhinavi/NLP/blob/main/NLP_Project.ipynb\" target=\"_parent\"><img src=\"https://colab.research.google.com/assets/colab-badge.svg\" alt=\"Open In Colab\"/></a>"
      ]
    },
    {
      "cell_type": "code",
      "execution_count": 1,
      "metadata": {
        "id": "BxET5uyRSXdH"
      },
      "outputs": [],
      "source": [
        "import pandas as pd"
      ]
    },
    {
      "cell_type": "code",
      "source": [
        "import numpy as np\n",
        "import matplotlib.pyplot as plt\n",
        "from sklearn.decomposition import PCA"
      ],
      "metadata": {
        "id": "lYXPGOdDVT8N"
      },
      "execution_count": 46,
      "outputs": []
    },
    {
      "cell_type": "code",
      "source": [
        "import nltk"
      ],
      "metadata": {
        "id": "8DUxj9xnVZB0"
      },
      "execution_count": 3,
      "outputs": []
    },
    {
      "cell_type": "code",
      "source": [
        "from nltk.corpus import stopwords"
      ],
      "metadata": {
        "id": "ADVa6QVFVbwl"
      },
      "execution_count": 4,
      "outputs": []
    },
    {
      "cell_type": "code",
      "source": [
        "nltk.download('all')"
      ],
      "metadata": {
        "colab": {
          "base_uri": "https://localhost:8080/"
        },
        "id": "qaY-RC7iVjSZ",
        "outputId": "b01b3ecf-3db1-4114-8d38-e68543e945b3"
      },
      "execution_count": 5,
      "outputs": [
        {
          "output_type": "stream",
          "name": "stderr",
          "text": [
            "[nltk_data] Downloading collection 'all'\n",
            "[nltk_data]    | \n",
            "[nltk_data]    | Downloading package abc to /root/nltk_data...\n",
            "[nltk_data]    |   Unzipping corpora/abc.zip.\n",
            "[nltk_data]    | Downloading package alpino to /root/nltk_data...\n",
            "[nltk_data]    |   Unzipping corpora/alpino.zip.\n",
            "[nltk_data]    | Downloading package averaged_perceptron_tagger to\n",
            "[nltk_data]    |     /root/nltk_data...\n",
            "[nltk_data]    |   Unzipping taggers/averaged_perceptron_tagger.zip.\n",
            "[nltk_data]    | Downloading package averaged_perceptron_tagger_eng to\n",
            "[nltk_data]    |     /root/nltk_data...\n",
            "[nltk_data]    |   Unzipping\n",
            "[nltk_data]    |       taggers/averaged_perceptron_tagger_eng.zip.\n",
            "[nltk_data]    | Downloading package averaged_perceptron_tagger_ru to\n",
            "[nltk_data]    |     /root/nltk_data...\n",
            "[nltk_data]    |   Unzipping\n",
            "[nltk_data]    |       taggers/averaged_perceptron_tagger_ru.zip.\n",
            "[nltk_data]    | Downloading package averaged_perceptron_tagger_rus to\n",
            "[nltk_data]    |     /root/nltk_data...\n",
            "[nltk_data]    |   Unzipping\n",
            "[nltk_data]    |       taggers/averaged_perceptron_tagger_rus.zip.\n",
            "[nltk_data]    | Downloading package basque_grammars to\n",
            "[nltk_data]    |     /root/nltk_data...\n",
            "[nltk_data]    |   Unzipping grammars/basque_grammars.zip.\n",
            "[nltk_data]    | Downloading package bcp47 to /root/nltk_data...\n",
            "[nltk_data]    | Downloading package biocreative_ppi to\n",
            "[nltk_data]    |     /root/nltk_data...\n",
            "[nltk_data]    |   Unzipping corpora/biocreative_ppi.zip.\n",
            "[nltk_data]    | Downloading package bllip_wsj_no_aux to\n",
            "[nltk_data]    |     /root/nltk_data...\n",
            "[nltk_data]    |   Unzipping models/bllip_wsj_no_aux.zip.\n",
            "[nltk_data]    | Downloading package book_grammars to\n",
            "[nltk_data]    |     /root/nltk_data...\n",
            "[nltk_data]    |   Unzipping grammars/book_grammars.zip.\n",
            "[nltk_data]    | Downloading package brown to /root/nltk_data...\n",
            "[nltk_data]    |   Unzipping corpora/brown.zip.\n",
            "[nltk_data]    | Downloading package brown_tei to /root/nltk_data...\n",
            "[nltk_data]    |   Unzipping corpora/brown_tei.zip.\n",
            "[nltk_data]    | Downloading package cess_cat to /root/nltk_data...\n",
            "[nltk_data]    |   Unzipping corpora/cess_cat.zip.\n",
            "[nltk_data]    | Downloading package cess_esp to /root/nltk_data...\n",
            "[nltk_data]    |   Unzipping corpora/cess_esp.zip.\n",
            "[nltk_data]    | Downloading package chat80 to /root/nltk_data...\n",
            "[nltk_data]    |   Unzipping corpora/chat80.zip.\n",
            "[nltk_data]    | Downloading package city_database to\n",
            "[nltk_data]    |     /root/nltk_data...\n",
            "[nltk_data]    |   Unzipping corpora/city_database.zip.\n",
            "[nltk_data]    | Downloading package cmudict to /root/nltk_data...\n",
            "[nltk_data]    |   Unzipping corpora/cmudict.zip.\n",
            "[nltk_data]    | Downloading package comparative_sentences to\n",
            "[nltk_data]    |     /root/nltk_data...\n",
            "[nltk_data]    |   Unzipping corpora/comparative_sentences.zip.\n",
            "[nltk_data]    | Downloading package comtrans to /root/nltk_data...\n",
            "[nltk_data]    | Downloading package conll2000 to /root/nltk_data...\n",
            "[nltk_data]    |   Unzipping corpora/conll2000.zip.\n",
            "[nltk_data]    | Downloading package conll2002 to /root/nltk_data...\n",
            "[nltk_data]    |   Unzipping corpora/conll2002.zip.\n",
            "[nltk_data]    | Downloading package conll2007 to /root/nltk_data...\n",
            "[nltk_data]    | Downloading package crubadan to /root/nltk_data...\n",
            "[nltk_data]    |   Unzipping corpora/crubadan.zip.\n",
            "[nltk_data]    | Downloading package dependency_treebank to\n",
            "[nltk_data]    |     /root/nltk_data...\n",
            "[nltk_data]    |   Unzipping corpora/dependency_treebank.zip.\n",
            "[nltk_data]    | Downloading package dolch to /root/nltk_data...\n",
            "[nltk_data]    |   Unzipping corpora/dolch.zip.\n",
            "[nltk_data]    | Downloading package europarl_raw to\n",
            "[nltk_data]    |     /root/nltk_data...\n",
            "[nltk_data]    |   Unzipping corpora/europarl_raw.zip.\n",
            "[nltk_data]    | Downloading package extended_omw to\n",
            "[nltk_data]    |     /root/nltk_data...\n",
            "[nltk_data]    | Downloading package floresta to /root/nltk_data...\n",
            "[nltk_data]    |   Unzipping corpora/floresta.zip.\n",
            "[nltk_data]    | Downloading package framenet_v15 to\n",
            "[nltk_data]    |     /root/nltk_data...\n",
            "[nltk_data]    |   Unzipping corpora/framenet_v15.zip.\n",
            "[nltk_data]    | Downloading package framenet_v17 to\n",
            "[nltk_data]    |     /root/nltk_data...\n",
            "[nltk_data]    |   Unzipping corpora/framenet_v17.zip.\n",
            "[nltk_data]    | Downloading package gazetteers to /root/nltk_data...\n",
            "[nltk_data]    |   Unzipping corpora/gazetteers.zip.\n",
            "[nltk_data]    | Downloading package genesis to /root/nltk_data...\n",
            "[nltk_data]    |   Unzipping corpora/genesis.zip.\n",
            "[nltk_data]    | Downloading package gutenberg to /root/nltk_data...\n",
            "[nltk_data]    |   Unzipping corpora/gutenberg.zip.\n",
            "[nltk_data]    | Downloading package ieer to /root/nltk_data...\n",
            "[nltk_data]    |   Unzipping corpora/ieer.zip.\n",
            "[nltk_data]    | Downloading package inaugural to /root/nltk_data...\n",
            "[nltk_data]    |   Unzipping corpora/inaugural.zip.\n",
            "[nltk_data]    | Downloading package indian to /root/nltk_data...\n",
            "[nltk_data]    |   Unzipping corpora/indian.zip.\n",
            "[nltk_data]    | Downloading package jeita to /root/nltk_data...\n",
            "[nltk_data]    | Downloading package kimmo to /root/nltk_data...\n",
            "[nltk_data]    |   Unzipping corpora/kimmo.zip.\n",
            "[nltk_data]    | Downloading package knbc to /root/nltk_data...\n",
            "[nltk_data]    | Downloading package large_grammars to\n",
            "[nltk_data]    |     /root/nltk_data...\n",
            "[nltk_data]    |   Unzipping grammars/large_grammars.zip.\n",
            "[nltk_data]    | Downloading package lin_thesaurus to\n",
            "[nltk_data]    |     /root/nltk_data...\n",
            "[nltk_data]    |   Unzipping corpora/lin_thesaurus.zip.\n",
            "[nltk_data]    | Downloading package mac_morpho to /root/nltk_data...\n",
            "[nltk_data]    |   Unzipping corpora/mac_morpho.zip.\n",
            "[nltk_data]    | Downloading package machado to /root/nltk_data...\n",
            "[nltk_data]    | Downloading package masc_tagged to /root/nltk_data...\n",
            "[nltk_data]    | Downloading package maxent_ne_chunker to\n",
            "[nltk_data]    |     /root/nltk_data...\n",
            "[nltk_data]    |   Unzipping chunkers/maxent_ne_chunker.zip.\n",
            "[nltk_data]    | Downloading package maxent_ne_chunker_tab to\n",
            "[nltk_data]    |     /root/nltk_data...\n",
            "[nltk_data]    |   Unzipping chunkers/maxent_ne_chunker_tab.zip.\n",
            "[nltk_data]    | Downloading package maxent_treebank_pos_tagger to\n",
            "[nltk_data]    |     /root/nltk_data...\n",
            "[nltk_data]    |   Unzipping taggers/maxent_treebank_pos_tagger.zip.\n",
            "[nltk_data]    | Downloading package maxent_treebank_pos_tagger_tab to\n",
            "[nltk_data]    |     /root/nltk_data...\n",
            "[nltk_data]    |   Unzipping\n",
            "[nltk_data]    |       taggers/maxent_treebank_pos_tagger_tab.zip.\n",
            "[nltk_data]    | Downloading package moses_sample to\n",
            "[nltk_data]    |     /root/nltk_data...\n",
            "[nltk_data]    |   Unzipping models/moses_sample.zip.\n",
            "[nltk_data]    | Downloading package movie_reviews to\n",
            "[nltk_data]    |     /root/nltk_data...\n",
            "[nltk_data]    |   Unzipping corpora/movie_reviews.zip.\n",
            "[nltk_data]    | Downloading package mte_teip5 to /root/nltk_data...\n",
            "[nltk_data]    |   Unzipping corpora/mte_teip5.zip.\n",
            "[nltk_data]    | Downloading package mwa_ppdb to /root/nltk_data...\n",
            "[nltk_data]    |   Unzipping misc/mwa_ppdb.zip.\n",
            "[nltk_data]    | Downloading package names to /root/nltk_data...\n",
            "[nltk_data]    |   Unzipping corpora/names.zip.\n",
            "[nltk_data]    | Downloading package nombank.1.0 to /root/nltk_data...\n",
            "[nltk_data]    | Downloading package nonbreaking_prefixes to\n",
            "[nltk_data]    |     /root/nltk_data...\n",
            "[nltk_data]    |   Unzipping corpora/nonbreaking_prefixes.zip.\n",
            "[nltk_data]    | Downloading package nps_chat to /root/nltk_data...\n",
            "[nltk_data]    |   Unzipping corpora/nps_chat.zip.\n",
            "[nltk_data]    | Downloading package omw to /root/nltk_data...\n",
            "[nltk_data]    | Downloading package omw-1.4 to /root/nltk_data...\n",
            "[nltk_data]    | Downloading package opinion_lexicon to\n",
            "[nltk_data]    |     /root/nltk_data...\n",
            "[nltk_data]    |   Unzipping corpora/opinion_lexicon.zip.\n",
            "[nltk_data]    | Downloading package panlex_swadesh to\n",
            "[nltk_data]    |     /root/nltk_data...\n",
            "[nltk_data]    | Downloading package paradigms to /root/nltk_data...\n",
            "[nltk_data]    |   Unzipping corpora/paradigms.zip.\n",
            "[nltk_data]    | Downloading package pe08 to /root/nltk_data...\n",
            "[nltk_data]    |   Unzipping corpora/pe08.zip.\n",
            "[nltk_data]    | Downloading package perluniprops to\n",
            "[nltk_data]    |     /root/nltk_data...\n",
            "[nltk_data]    |   Unzipping misc/perluniprops.zip.\n",
            "[nltk_data]    | Downloading package pil to /root/nltk_data...\n",
            "[nltk_data]    |   Unzipping corpora/pil.zip.\n",
            "[nltk_data]    | Downloading package pl196x to /root/nltk_data...\n",
            "[nltk_data]    |   Unzipping corpora/pl196x.zip.\n",
            "[nltk_data]    | Downloading package porter_test to /root/nltk_data...\n",
            "[nltk_data]    |   Unzipping stemmers/porter_test.zip.\n",
            "[nltk_data]    | Downloading package ppattach to /root/nltk_data...\n",
            "[nltk_data]    |   Unzipping corpora/ppattach.zip.\n",
            "[nltk_data]    | Downloading package problem_reports to\n",
            "[nltk_data]    |     /root/nltk_data...\n",
            "[nltk_data]    |   Unzipping corpora/problem_reports.zip.\n",
            "[nltk_data]    | Downloading package product_reviews_1 to\n",
            "[nltk_data]    |     /root/nltk_data...\n",
            "[nltk_data]    |   Unzipping corpora/product_reviews_1.zip.\n",
            "[nltk_data]    | Downloading package product_reviews_2 to\n",
            "[nltk_data]    |     /root/nltk_data...\n",
            "[nltk_data]    |   Unzipping corpora/product_reviews_2.zip.\n",
            "[nltk_data]    | Downloading package propbank to /root/nltk_data...\n",
            "[nltk_data]    | Downloading package pros_cons to /root/nltk_data...\n",
            "[nltk_data]    |   Unzipping corpora/pros_cons.zip.\n",
            "[nltk_data]    | Downloading package ptb to /root/nltk_data...\n",
            "[nltk_data]    |   Unzipping corpora/ptb.zip.\n",
            "[nltk_data]    | Downloading package punkt to /root/nltk_data...\n",
            "[nltk_data]    |   Unzipping tokenizers/punkt.zip.\n",
            "[nltk_data]    | Downloading package punkt_tab to /root/nltk_data...\n",
            "[nltk_data]    |   Unzipping tokenizers/punkt_tab.zip.\n",
            "[nltk_data]    | Downloading package qc to /root/nltk_data...\n",
            "[nltk_data]    |   Unzipping corpora/qc.zip.\n",
            "[nltk_data]    | Downloading package reuters to /root/nltk_data...\n",
            "[nltk_data]    | Downloading package rslp to /root/nltk_data...\n",
            "[nltk_data]    |   Unzipping stemmers/rslp.zip.\n",
            "[nltk_data]    | Downloading package rte to /root/nltk_data...\n",
            "[nltk_data]    |   Unzipping corpora/rte.zip.\n",
            "[nltk_data]    | Downloading package sample_grammars to\n",
            "[nltk_data]    |     /root/nltk_data...\n",
            "[nltk_data]    |   Unzipping grammars/sample_grammars.zip.\n",
            "[nltk_data]    | Downloading package semcor to /root/nltk_data...\n",
            "[nltk_data]    | Downloading package senseval to /root/nltk_data...\n",
            "[nltk_data]    |   Unzipping corpora/senseval.zip.\n",
            "[nltk_data]    | Downloading package sentence_polarity to\n",
            "[nltk_data]    |     /root/nltk_data...\n",
            "[nltk_data]    |   Unzipping corpora/sentence_polarity.zip.\n",
            "[nltk_data]    | Downloading package sentiwordnet to\n",
            "[nltk_data]    |     /root/nltk_data...\n",
            "[nltk_data]    |   Unzipping corpora/sentiwordnet.zip.\n",
            "[nltk_data]    | Downloading package shakespeare to /root/nltk_data...\n",
            "[nltk_data]    |   Unzipping corpora/shakespeare.zip.\n",
            "[nltk_data]    | Downloading package sinica_treebank to\n",
            "[nltk_data]    |     /root/nltk_data...\n",
            "[nltk_data]    |   Unzipping corpora/sinica_treebank.zip.\n",
            "[nltk_data]    | Downloading package smultron to /root/nltk_data...\n",
            "[nltk_data]    |   Unzipping corpora/smultron.zip.\n",
            "[nltk_data]    | Downloading package snowball_data to\n",
            "[nltk_data]    |     /root/nltk_data...\n",
            "[nltk_data]    | Downloading package spanish_grammars to\n",
            "[nltk_data]    |     /root/nltk_data...\n",
            "[nltk_data]    |   Unzipping grammars/spanish_grammars.zip.\n",
            "[nltk_data]    | Downloading package state_union to /root/nltk_data...\n",
            "[nltk_data]    |   Unzipping corpora/state_union.zip.\n",
            "[nltk_data]    | Downloading package stopwords to /root/nltk_data...\n",
            "[nltk_data]    |   Unzipping corpora/stopwords.zip.\n",
            "[nltk_data]    | Downloading package subjectivity to\n",
            "[nltk_data]    |     /root/nltk_data...\n",
            "[nltk_data]    |   Unzipping corpora/subjectivity.zip.\n",
            "[nltk_data]    | Downloading package swadesh to /root/nltk_data...\n",
            "[nltk_data]    |   Unzipping corpora/swadesh.zip.\n",
            "[nltk_data]    | Downloading package switchboard to /root/nltk_data...\n",
            "[nltk_data]    |   Unzipping corpora/switchboard.zip.\n",
            "[nltk_data]    | Downloading package tagsets to /root/nltk_data...\n",
            "[nltk_data]    |   Unzipping help/tagsets.zip.\n",
            "[nltk_data]    | Downloading package tagsets_json to\n",
            "[nltk_data]    |     /root/nltk_data...\n",
            "[nltk_data]    |   Unzipping help/tagsets_json.zip.\n",
            "[nltk_data]    | Downloading package timit to /root/nltk_data...\n",
            "[nltk_data]    |   Unzipping corpora/timit.zip.\n",
            "[nltk_data]    | Downloading package toolbox to /root/nltk_data...\n",
            "[nltk_data]    |   Unzipping corpora/toolbox.zip.\n",
            "[nltk_data]    | Downloading package treebank to /root/nltk_data...\n",
            "[nltk_data]    |   Unzipping corpora/treebank.zip.\n",
            "[nltk_data]    | Downloading package twitter_samples to\n",
            "[nltk_data]    |     /root/nltk_data...\n",
            "[nltk_data]    |   Unzipping corpora/twitter_samples.zip.\n",
            "[nltk_data]    | Downloading package udhr to /root/nltk_data...\n",
            "[nltk_data]    |   Unzipping corpora/udhr.zip.\n",
            "[nltk_data]    | Downloading package udhr2 to /root/nltk_data...\n",
            "[nltk_data]    |   Unzipping corpora/udhr2.zip.\n",
            "[nltk_data]    | Downloading package unicode_samples to\n",
            "[nltk_data]    |     /root/nltk_data...\n",
            "[nltk_data]    |   Unzipping corpora/unicode_samples.zip.\n",
            "[nltk_data]    | Downloading package universal_tagset to\n",
            "[nltk_data]    |     /root/nltk_data...\n",
            "[nltk_data]    |   Unzipping taggers/universal_tagset.zip.\n",
            "[nltk_data]    | Downloading package universal_treebanks_v20 to\n",
            "[nltk_data]    |     /root/nltk_data...\n",
            "[nltk_data]    | Downloading package vader_lexicon to\n",
            "[nltk_data]    |     /root/nltk_data...\n",
            "[nltk_data]    | Downloading package verbnet to /root/nltk_data...\n",
            "[nltk_data]    |   Unzipping corpora/verbnet.zip.\n",
            "[nltk_data]    | Downloading package verbnet3 to /root/nltk_data...\n",
            "[nltk_data]    |   Unzipping corpora/verbnet3.zip.\n",
            "[nltk_data]    | Downloading package webtext to /root/nltk_data...\n",
            "[nltk_data]    |   Unzipping corpora/webtext.zip.\n",
            "[nltk_data]    | Downloading package wmt15_eval to /root/nltk_data...\n",
            "[nltk_data]    |   Unzipping models/wmt15_eval.zip.\n",
            "[nltk_data]    | Downloading package word2vec_sample to\n",
            "[nltk_data]    |     /root/nltk_data...\n",
            "[nltk_data]    |   Unzipping models/word2vec_sample.zip.\n",
            "[nltk_data]    | Downloading package wordnet to /root/nltk_data...\n",
            "[nltk_data]    | Downloading package wordnet2021 to /root/nltk_data...\n",
            "[nltk_data]    | Downloading package wordnet2022 to /root/nltk_data...\n",
            "[nltk_data]    |   Unzipping corpora/wordnet2022.zip.\n",
            "[nltk_data]    | Downloading package wordnet31 to /root/nltk_data...\n",
            "[nltk_data]    | Downloading package wordnet_ic to /root/nltk_data...\n",
            "[nltk_data]    |   Unzipping corpora/wordnet_ic.zip.\n",
            "[nltk_data]    | Downloading package words to /root/nltk_data...\n",
            "[nltk_data]    |   Unzipping corpora/words.zip.\n",
            "[nltk_data]    | Downloading package ycoe to /root/nltk_data...\n",
            "[nltk_data]    |   Unzipping corpora/ycoe.zip.\n",
            "[nltk_data]    | \n",
            "[nltk_data]  Done downloading collection all\n"
          ]
        },
        {
          "output_type": "execute_result",
          "data": {
            "text/plain": [
              "True"
            ]
          },
          "metadata": {},
          "execution_count": 5
        }
      ]
    },
    {
      "cell_type": "code",
      "source": [
        "import re"
      ],
      "metadata": {
        "id": "xfKZ79P8V36d"
      },
      "execution_count": 6,
      "outputs": []
    },
    {
      "cell_type": "code",
      "source": [
        "from nltk.stem import PorterStemmer\n",
        "from nltk.stem import WordNetLemmatizer\n",
        "from gensim.models import Word2Vec,keyedvectors\n",
        "from gensim.utils import simple_preprocess\n",
        "from bs4 import BeautifulSoup\n",
        "from nltk.corpus import stopwords\n",
        "nltk.download('stopwords')"
      ],
      "metadata": {
        "id": "NFrTkz8xWZIS",
        "colab": {
          "base_uri": "https://localhost:8080/"
        },
        "outputId": "657f6e52-93f2-42e6-83d9-9bbe0541044b"
      },
      "execution_count": 7,
      "outputs": [
        {
          "output_type": "stream",
          "name": "stderr",
          "text": [
            "[nltk_data] Downloading package stopwords to /root/nltk_data...\n",
            "[nltk_data]   Package stopwords is already up-to-date!\n"
          ]
        },
        {
          "output_type": "execute_result",
          "data": {
            "text/plain": [
              "True"
            ]
          },
          "metadata": {},
          "execution_count": 7
        }
      ]
    },
    {
      "cell_type": "code",
      "source": [
        "df=pd.read_csv(\"/content/drive/MyDrive/Colab Notebooks/Updated_ML_AI_NLP_Dataset.csv\")"
      ],
      "metadata": {
        "id": "6znOXbIiWZE5"
      },
      "execution_count": 8,
      "outputs": []
    },
    {
      "cell_type": "code",
      "source": [
        "df"
      ],
      "metadata": {
        "colab": {
          "base_uri": "https://localhost:8080/",
          "height": 472
        },
        "id": "RGaSppZsWZAp",
        "outputId": "e2b4e8f2-65e4-48a3-a213-b307026d72ff"
      },
      "execution_count": 9,
      "outputs": [
        {
          "output_type": "execute_result",
          "data": {
            "text/plain": [
              "   Document_ID                                            Content  \\\n",
              "0            1  Machine learning enables systems to learn from...   \n",
              "1            2  NLP techniques such as tokenization and sentim...   \n",
              "2            3  Deep learning utilizes neural networks to achi...   \n",
              "3            4  AI ethics focuses on fairness, accountability,...   \n",
              "\n",
              "                      Category  \\\n",
              "0             Machine Learning   \n",
              "1  Natural Language Processing   \n",
              "2                Deep Learning   \n",
              "3                    AI Ethics   \n",
              "\n",
              "                                            Keywords  Word_Count  \\\n",
              "0  machine learning, supervised learning, data sc...          14   \n",
              "1  NLP, tokenization, sentiment analysis, text pr...          14   \n",
              "2  deep learning, neural networks, CNN, RNN, imag...          14   \n",
              "3  AI ethics, fairness, accountability, transpare...          12   \n",
              "\n",
              "   Character_Count Sentiment  Unique_Word_Count  Average_Word_Length  \\\n",
              "0              105   neutral                 14             6.571429   \n",
              "1              102   neutral                 14             6.357143   \n",
              "2              102   neutral                 14             6.357143   \n",
              "3              101   neutral                 12             7.500000   \n",
              "\n",
              "   Stopword_Count  \n",
              "0               2  \n",
              "1               2  \n",
              "2               3  \n",
              "3               3  "
            ],
            "text/html": [
              "\n",
              "  <div id=\"df-5211d5dd-b4c8-43d1-80ea-b50d7c1cce60\" class=\"colab-df-container\">\n",
              "    <div>\n",
              "<style scoped>\n",
              "    .dataframe tbody tr th:only-of-type {\n",
              "        vertical-align: middle;\n",
              "    }\n",
              "\n",
              "    .dataframe tbody tr th {\n",
              "        vertical-align: top;\n",
              "    }\n",
              "\n",
              "    .dataframe thead th {\n",
              "        text-align: right;\n",
              "    }\n",
              "</style>\n",
              "<table border=\"1\" class=\"dataframe\">\n",
              "  <thead>\n",
              "    <tr style=\"text-align: right;\">\n",
              "      <th></th>\n",
              "      <th>Document_ID</th>\n",
              "      <th>Content</th>\n",
              "      <th>Category</th>\n",
              "      <th>Keywords</th>\n",
              "      <th>Word_Count</th>\n",
              "      <th>Character_Count</th>\n",
              "      <th>Sentiment</th>\n",
              "      <th>Unique_Word_Count</th>\n",
              "      <th>Average_Word_Length</th>\n",
              "      <th>Stopword_Count</th>\n",
              "    </tr>\n",
              "  </thead>\n",
              "  <tbody>\n",
              "    <tr>\n",
              "      <th>0</th>\n",
              "      <td>1</td>\n",
              "      <td>Machine learning enables systems to learn from...</td>\n",
              "      <td>Machine Learning</td>\n",
              "      <td>machine learning, supervised learning, data sc...</td>\n",
              "      <td>14</td>\n",
              "      <td>105</td>\n",
              "      <td>neutral</td>\n",
              "      <td>14</td>\n",
              "      <td>6.571429</td>\n",
              "      <td>2</td>\n",
              "    </tr>\n",
              "    <tr>\n",
              "      <th>1</th>\n",
              "      <td>2</td>\n",
              "      <td>NLP techniques such as tokenization and sentim...</td>\n",
              "      <td>Natural Language Processing</td>\n",
              "      <td>NLP, tokenization, sentiment analysis, text pr...</td>\n",
              "      <td>14</td>\n",
              "      <td>102</td>\n",
              "      <td>neutral</td>\n",
              "      <td>14</td>\n",
              "      <td>6.357143</td>\n",
              "      <td>2</td>\n",
              "    </tr>\n",
              "    <tr>\n",
              "      <th>2</th>\n",
              "      <td>3</td>\n",
              "      <td>Deep learning utilizes neural networks to achi...</td>\n",
              "      <td>Deep Learning</td>\n",
              "      <td>deep learning, neural networks, CNN, RNN, imag...</td>\n",
              "      <td>14</td>\n",
              "      <td>102</td>\n",
              "      <td>neutral</td>\n",
              "      <td>14</td>\n",
              "      <td>6.357143</td>\n",
              "      <td>3</td>\n",
              "    </tr>\n",
              "    <tr>\n",
              "      <th>3</th>\n",
              "      <td>4</td>\n",
              "      <td>AI ethics focuses on fairness, accountability,...</td>\n",
              "      <td>AI Ethics</td>\n",
              "      <td>AI ethics, fairness, accountability, transpare...</td>\n",
              "      <td>12</td>\n",
              "      <td>101</td>\n",
              "      <td>neutral</td>\n",
              "      <td>12</td>\n",
              "      <td>7.500000</td>\n",
              "      <td>3</td>\n",
              "    </tr>\n",
              "  </tbody>\n",
              "</table>\n",
              "</div>\n",
              "    <div class=\"colab-df-buttons\">\n",
              "\n",
              "  <div class=\"colab-df-container\">\n",
              "    <button class=\"colab-df-convert\" onclick=\"convertToInteractive('df-5211d5dd-b4c8-43d1-80ea-b50d7c1cce60')\"\n",
              "            title=\"Convert this dataframe to an interactive table.\"\n",
              "            style=\"display:none;\">\n",
              "\n",
              "  <svg xmlns=\"http://www.w3.org/2000/svg\" height=\"24px\" viewBox=\"0 -960 960 960\">\n",
              "    <path d=\"M120-120v-720h720v720H120Zm60-500h600v-160H180v160Zm220 220h160v-160H400v160Zm0 220h160v-160H400v160ZM180-400h160v-160H180v160Zm440 0h160v-160H620v160ZM180-180h160v-160H180v160Zm440 0h160v-160H620v160Z\"/>\n",
              "  </svg>\n",
              "    </button>\n",
              "\n",
              "  <style>\n",
              "    .colab-df-container {\n",
              "      display:flex;\n",
              "      gap: 12px;\n",
              "    }\n",
              "\n",
              "    .colab-df-convert {\n",
              "      background-color: #E8F0FE;\n",
              "      border: none;\n",
              "      border-radius: 50%;\n",
              "      cursor: pointer;\n",
              "      display: none;\n",
              "      fill: #1967D2;\n",
              "      height: 32px;\n",
              "      padding: 0 0 0 0;\n",
              "      width: 32px;\n",
              "    }\n",
              "\n",
              "    .colab-df-convert:hover {\n",
              "      background-color: #E2EBFA;\n",
              "      box-shadow: 0px 1px 2px rgba(60, 64, 67, 0.3), 0px 1px 3px 1px rgba(60, 64, 67, 0.15);\n",
              "      fill: #174EA6;\n",
              "    }\n",
              "\n",
              "    .colab-df-buttons div {\n",
              "      margin-bottom: 4px;\n",
              "    }\n",
              "\n",
              "    [theme=dark] .colab-df-convert {\n",
              "      background-color: #3B4455;\n",
              "      fill: #D2E3FC;\n",
              "    }\n",
              "\n",
              "    [theme=dark] .colab-df-convert:hover {\n",
              "      background-color: #434B5C;\n",
              "      box-shadow: 0px 1px 3px 1px rgba(0, 0, 0, 0.15);\n",
              "      filter: drop-shadow(0px 1px 2px rgba(0, 0, 0, 0.3));\n",
              "      fill: #FFFFFF;\n",
              "    }\n",
              "  </style>\n",
              "\n",
              "    <script>\n",
              "      const buttonEl =\n",
              "        document.querySelector('#df-5211d5dd-b4c8-43d1-80ea-b50d7c1cce60 button.colab-df-convert');\n",
              "      buttonEl.style.display =\n",
              "        google.colab.kernel.accessAllowed ? 'block' : 'none';\n",
              "\n",
              "      async function convertToInteractive(key) {\n",
              "        const element = document.querySelector('#df-5211d5dd-b4c8-43d1-80ea-b50d7c1cce60');\n",
              "        const dataTable =\n",
              "          await google.colab.kernel.invokeFunction('convertToInteractive',\n",
              "                                                    [key], {});\n",
              "        if (!dataTable) return;\n",
              "\n",
              "        const docLinkHtml = 'Like what you see? Visit the ' +\n",
              "          '<a target=\"_blank\" href=https://colab.research.google.com/notebooks/data_table.ipynb>data table notebook</a>'\n",
              "          + ' to learn more about interactive tables.';\n",
              "        element.innerHTML = '';\n",
              "        dataTable['output_type'] = 'display_data';\n",
              "        await google.colab.output.renderOutput(dataTable, element);\n",
              "        const docLink = document.createElement('div');\n",
              "        docLink.innerHTML = docLinkHtml;\n",
              "        element.appendChild(docLink);\n",
              "      }\n",
              "    </script>\n",
              "  </div>\n",
              "\n",
              "\n",
              "<div id=\"df-fe15b547-6aaa-4eee-b50a-2405659b7e9b\">\n",
              "  <button class=\"colab-df-quickchart\" onclick=\"quickchart('df-fe15b547-6aaa-4eee-b50a-2405659b7e9b')\"\n",
              "            title=\"Suggest charts\"\n",
              "            style=\"display:none;\">\n",
              "\n",
              "<svg xmlns=\"http://www.w3.org/2000/svg\" height=\"24px\"viewBox=\"0 0 24 24\"\n",
              "     width=\"24px\">\n",
              "    <g>\n",
              "        <path d=\"M19 3H5c-1.1 0-2 .9-2 2v14c0 1.1.9 2 2 2h14c1.1 0 2-.9 2-2V5c0-1.1-.9-2-2-2zM9 17H7v-7h2v7zm4 0h-2V7h2v10zm4 0h-2v-4h2v4z\"/>\n",
              "    </g>\n",
              "</svg>\n",
              "  </button>\n",
              "\n",
              "<style>\n",
              "  .colab-df-quickchart {\n",
              "      --bg-color: #E8F0FE;\n",
              "      --fill-color: #1967D2;\n",
              "      --hover-bg-color: #E2EBFA;\n",
              "      --hover-fill-color: #174EA6;\n",
              "      --disabled-fill-color: #AAA;\n",
              "      --disabled-bg-color: #DDD;\n",
              "  }\n",
              "\n",
              "  [theme=dark] .colab-df-quickchart {\n",
              "      --bg-color: #3B4455;\n",
              "      --fill-color: #D2E3FC;\n",
              "      --hover-bg-color: #434B5C;\n",
              "      --hover-fill-color: #FFFFFF;\n",
              "      --disabled-bg-color: #3B4455;\n",
              "      --disabled-fill-color: #666;\n",
              "  }\n",
              "\n",
              "  .colab-df-quickchart {\n",
              "    background-color: var(--bg-color);\n",
              "    border: none;\n",
              "    border-radius: 50%;\n",
              "    cursor: pointer;\n",
              "    display: none;\n",
              "    fill: var(--fill-color);\n",
              "    height: 32px;\n",
              "    padding: 0;\n",
              "    width: 32px;\n",
              "  }\n",
              "\n",
              "  .colab-df-quickchart:hover {\n",
              "    background-color: var(--hover-bg-color);\n",
              "    box-shadow: 0 1px 2px rgba(60, 64, 67, 0.3), 0 1px 3px 1px rgba(60, 64, 67, 0.15);\n",
              "    fill: var(--button-hover-fill-color);\n",
              "  }\n",
              "\n",
              "  .colab-df-quickchart-complete:disabled,\n",
              "  .colab-df-quickchart-complete:disabled:hover {\n",
              "    background-color: var(--disabled-bg-color);\n",
              "    fill: var(--disabled-fill-color);\n",
              "    box-shadow: none;\n",
              "  }\n",
              "\n",
              "  .colab-df-spinner {\n",
              "    border: 2px solid var(--fill-color);\n",
              "    border-color: transparent;\n",
              "    border-bottom-color: var(--fill-color);\n",
              "    animation:\n",
              "      spin 1s steps(1) infinite;\n",
              "  }\n",
              "\n",
              "  @keyframes spin {\n",
              "    0% {\n",
              "      border-color: transparent;\n",
              "      border-bottom-color: var(--fill-color);\n",
              "      border-left-color: var(--fill-color);\n",
              "    }\n",
              "    20% {\n",
              "      border-color: transparent;\n",
              "      border-left-color: var(--fill-color);\n",
              "      border-top-color: var(--fill-color);\n",
              "    }\n",
              "    30% {\n",
              "      border-color: transparent;\n",
              "      border-left-color: var(--fill-color);\n",
              "      border-top-color: var(--fill-color);\n",
              "      border-right-color: var(--fill-color);\n",
              "    }\n",
              "    40% {\n",
              "      border-color: transparent;\n",
              "      border-right-color: var(--fill-color);\n",
              "      border-top-color: var(--fill-color);\n",
              "    }\n",
              "    60% {\n",
              "      border-color: transparent;\n",
              "      border-right-color: var(--fill-color);\n",
              "    }\n",
              "    80% {\n",
              "      border-color: transparent;\n",
              "      border-right-color: var(--fill-color);\n",
              "      border-bottom-color: var(--fill-color);\n",
              "    }\n",
              "    90% {\n",
              "      border-color: transparent;\n",
              "      border-bottom-color: var(--fill-color);\n",
              "    }\n",
              "  }\n",
              "</style>\n",
              "\n",
              "  <script>\n",
              "    async function quickchart(key) {\n",
              "      const quickchartButtonEl =\n",
              "        document.querySelector('#' + key + ' button');\n",
              "      quickchartButtonEl.disabled = true;  // To prevent multiple clicks.\n",
              "      quickchartButtonEl.classList.add('colab-df-spinner');\n",
              "      try {\n",
              "        const charts = await google.colab.kernel.invokeFunction(\n",
              "            'suggestCharts', [key], {});\n",
              "      } catch (error) {\n",
              "        console.error('Error during call to suggestCharts:', error);\n",
              "      }\n",
              "      quickchartButtonEl.classList.remove('colab-df-spinner');\n",
              "      quickchartButtonEl.classList.add('colab-df-quickchart-complete');\n",
              "    }\n",
              "    (() => {\n",
              "      let quickchartButtonEl =\n",
              "        document.querySelector('#df-fe15b547-6aaa-4eee-b50a-2405659b7e9b button');\n",
              "      quickchartButtonEl.style.display =\n",
              "        google.colab.kernel.accessAllowed ? 'block' : 'none';\n",
              "    })();\n",
              "  </script>\n",
              "</div>\n",
              "\n",
              "  <div id=\"id_f2faa609-260e-4b77-83c6-a3abc4c3b91b\">\n",
              "    <style>\n",
              "      .colab-df-generate {\n",
              "        background-color: #E8F0FE;\n",
              "        border: none;\n",
              "        border-radius: 50%;\n",
              "        cursor: pointer;\n",
              "        display: none;\n",
              "        fill: #1967D2;\n",
              "        height: 32px;\n",
              "        padding: 0 0 0 0;\n",
              "        width: 32px;\n",
              "      }\n",
              "\n",
              "      .colab-df-generate:hover {\n",
              "        background-color: #E2EBFA;\n",
              "        box-shadow: 0px 1px 2px rgba(60, 64, 67, 0.3), 0px 1px 3px 1px rgba(60, 64, 67, 0.15);\n",
              "        fill: #174EA6;\n",
              "      }\n",
              "\n",
              "      [theme=dark] .colab-df-generate {\n",
              "        background-color: #3B4455;\n",
              "        fill: #D2E3FC;\n",
              "      }\n",
              "\n",
              "      [theme=dark] .colab-df-generate:hover {\n",
              "        background-color: #434B5C;\n",
              "        box-shadow: 0px 1px 3px 1px rgba(0, 0, 0, 0.15);\n",
              "        filter: drop-shadow(0px 1px 2px rgba(0, 0, 0, 0.3));\n",
              "        fill: #FFFFFF;\n",
              "      }\n",
              "    </style>\n",
              "    <button class=\"colab-df-generate\" onclick=\"generateWithVariable('df')\"\n",
              "            title=\"Generate code using this dataframe.\"\n",
              "            style=\"display:none;\">\n",
              "\n",
              "  <svg xmlns=\"http://www.w3.org/2000/svg\" height=\"24px\"viewBox=\"0 0 24 24\"\n",
              "       width=\"24px\">\n",
              "    <path d=\"M7,19H8.4L18.45,9,17,7.55,7,17.6ZM5,21V16.75L18.45,3.32a2,2,0,0,1,2.83,0l1.4,1.43a1.91,1.91,0,0,1,.58,1.4,1.91,1.91,0,0,1-.58,1.4L9.25,21ZM18.45,9,17,7.55Zm-12,3A5.31,5.31,0,0,0,4.9,8.1,5.31,5.31,0,0,0,1,6.5,5.31,5.31,0,0,0,4.9,4.9,5.31,5.31,0,0,0,6.5,1,5.31,5.31,0,0,0,8.1,4.9,5.31,5.31,0,0,0,12,6.5,5.46,5.46,0,0,0,6.5,12Z\"/>\n",
              "  </svg>\n",
              "    </button>\n",
              "    <script>\n",
              "      (() => {\n",
              "      const buttonEl =\n",
              "        document.querySelector('#id_f2faa609-260e-4b77-83c6-a3abc4c3b91b button.colab-df-generate');\n",
              "      buttonEl.style.display =\n",
              "        google.colab.kernel.accessAllowed ? 'block' : 'none';\n",
              "\n",
              "      buttonEl.onclick = () => {\n",
              "        google.colab.notebook.generateWithVariable('df');\n",
              "      }\n",
              "      })();\n",
              "    </script>\n",
              "  </div>\n",
              "\n",
              "    </div>\n",
              "  </div>\n"
            ],
            "application/vnd.google.colaboratory.intrinsic+json": {
              "type": "dataframe",
              "variable_name": "df",
              "summary": "{\n  \"name\": \"df\",\n  \"rows\": 4,\n  \"fields\": [\n    {\n      \"column\": \"Document_ID\",\n      \"properties\": {\n        \"dtype\": \"number\",\n        \"std\": 1,\n        \"min\": 1,\n        \"max\": 4,\n        \"num_unique_values\": 4,\n        \"samples\": [\n          2,\n          4,\n          1\n        ],\n        \"semantic_type\": \"\",\n        \"description\": \"\"\n      }\n    },\n    {\n      \"column\": \"Content\",\n      \"properties\": {\n        \"dtype\": \"string\",\n        \"num_unique_values\": 4,\n        \"samples\": [\n          \"NLP techniques such as tokenization and sentiment analysis are crucial for text-based AI applications.\",\n          \"AI ethics focuses on fairness, accountability, and transparency in automated decision-making systems.\",\n          \"Machine learning enables systems to learn from data and improve performance without explicit programming.\"\n        ],\n        \"semantic_type\": \"\",\n        \"description\": \"\"\n      }\n    },\n    {\n      \"column\": \"Category\",\n      \"properties\": {\n        \"dtype\": \"string\",\n        \"num_unique_values\": 4,\n        \"samples\": [\n          \"Natural Language Processing\",\n          \"AI Ethics\",\n          \"Machine Learning\"\n        ],\n        \"semantic_type\": \"\",\n        \"description\": \"\"\n      }\n    },\n    {\n      \"column\": \"Keywords\",\n      \"properties\": {\n        \"dtype\": \"string\",\n        \"num_unique_values\": 4,\n        \"samples\": [\n          \"NLP, tokenization, sentiment analysis, text processing, AI applications\",\n          \"AI ethics, fairness, accountability, transparency, decision-making\",\n          \"machine learning, supervised learning, data science, algorithms\"\n        ],\n        \"semantic_type\": \"\",\n        \"description\": \"\"\n      }\n    },\n    {\n      \"column\": \"Word_Count\",\n      \"properties\": {\n        \"dtype\": \"number\",\n        \"std\": 1,\n        \"min\": 12,\n        \"max\": 14,\n        \"num_unique_values\": 2,\n        \"samples\": [\n          12,\n          14\n        ],\n        \"semantic_type\": \"\",\n        \"description\": \"\"\n      }\n    },\n    {\n      \"column\": \"Character_Count\",\n      \"properties\": {\n        \"dtype\": \"number\",\n        \"std\": 1,\n        \"min\": 101,\n        \"max\": 105,\n        \"num_unique_values\": 3,\n        \"samples\": [\n          105,\n          102\n        ],\n        \"semantic_type\": \"\",\n        \"description\": \"\"\n      }\n    },\n    {\n      \"column\": \"Sentiment\",\n      \"properties\": {\n        \"dtype\": \"category\",\n        \"num_unique_values\": 1,\n        \"samples\": [\n          \"neutral\"\n        ],\n        \"semantic_type\": \"\",\n        \"description\": \"\"\n      }\n    },\n    {\n      \"column\": \"Unique_Word_Count\",\n      \"properties\": {\n        \"dtype\": \"number\",\n        \"std\": 1,\n        \"min\": 12,\n        \"max\": 14,\n        \"num_unique_values\": 2,\n        \"samples\": [\n          12\n        ],\n        \"semantic_type\": \"\",\n        \"description\": \"\"\n      }\n    },\n    {\n      \"column\": \"Average_Word_Length\",\n      \"properties\": {\n        \"dtype\": \"number\",\n        \"std\": 0.5451549115169197,\n        \"min\": 6.357142857142857,\n        \"max\": 7.5,\n        \"num_unique_values\": 3,\n        \"samples\": [\n          6.571428571428571\n        ],\n        \"semantic_type\": \"\",\n        \"description\": \"\"\n      }\n    },\n    {\n      \"column\": \"Stopword_Count\",\n      \"properties\": {\n        \"dtype\": \"number\",\n        \"std\": 0,\n        \"min\": 2,\n        \"max\": 3,\n        \"num_unique_values\": 2,\n        \"samples\": [\n          3\n        ],\n        \"semantic_type\": \"\",\n        \"description\": \"\"\n      }\n    }\n  ]\n}"
            }
          },
          "metadata": {},
          "execution_count": 9
        }
      ]
    },
    {
      "cell_type": "code",
      "source": [
        "data=df[['Content','Keywords']]"
      ],
      "metadata": {
        "id": "QEsiVNXpWY8G"
      },
      "execution_count": 10,
      "outputs": []
    },
    {
      "cell_type": "code",
      "source": [
        "data"
      ],
      "metadata": {
        "colab": {
          "base_uri": "https://localhost:8080/",
          "height": 174
        },
        "id": "rKrc4PuoWY3N",
        "outputId": "2a762b2a-58ef-47fc-ccca-dcda982195d8"
      },
      "execution_count": 11,
      "outputs": [
        {
          "output_type": "execute_result",
          "data": {
            "text/plain": [
              "                                             Content  \\\n",
              "0  Machine learning enables systems to learn from...   \n",
              "1  NLP techniques such as tokenization and sentim...   \n",
              "2  Deep learning utilizes neural networks to achi...   \n",
              "3  AI ethics focuses on fairness, accountability,...   \n",
              "\n",
              "                                            Keywords  \n",
              "0  machine learning, supervised learning, data sc...  \n",
              "1  NLP, tokenization, sentiment analysis, text pr...  \n",
              "2  deep learning, neural networks, CNN, RNN, imag...  \n",
              "3  AI ethics, fairness, accountability, transpare...  "
            ],
            "text/html": [
              "\n",
              "  <div id=\"df-8cbf50d0-5d44-4a23-b4a6-0d8941e0e2c6\" class=\"colab-df-container\">\n",
              "    <div>\n",
              "<style scoped>\n",
              "    .dataframe tbody tr th:only-of-type {\n",
              "        vertical-align: middle;\n",
              "    }\n",
              "\n",
              "    .dataframe tbody tr th {\n",
              "        vertical-align: top;\n",
              "    }\n",
              "\n",
              "    .dataframe thead th {\n",
              "        text-align: right;\n",
              "    }\n",
              "</style>\n",
              "<table border=\"1\" class=\"dataframe\">\n",
              "  <thead>\n",
              "    <tr style=\"text-align: right;\">\n",
              "      <th></th>\n",
              "      <th>Content</th>\n",
              "      <th>Keywords</th>\n",
              "    </tr>\n",
              "  </thead>\n",
              "  <tbody>\n",
              "    <tr>\n",
              "      <th>0</th>\n",
              "      <td>Machine learning enables systems to learn from...</td>\n",
              "      <td>machine learning, supervised learning, data sc...</td>\n",
              "    </tr>\n",
              "    <tr>\n",
              "      <th>1</th>\n",
              "      <td>NLP techniques such as tokenization and sentim...</td>\n",
              "      <td>NLP, tokenization, sentiment analysis, text pr...</td>\n",
              "    </tr>\n",
              "    <tr>\n",
              "      <th>2</th>\n",
              "      <td>Deep learning utilizes neural networks to achi...</td>\n",
              "      <td>deep learning, neural networks, CNN, RNN, imag...</td>\n",
              "    </tr>\n",
              "    <tr>\n",
              "      <th>3</th>\n",
              "      <td>AI ethics focuses on fairness, accountability,...</td>\n",
              "      <td>AI ethics, fairness, accountability, transpare...</td>\n",
              "    </tr>\n",
              "  </tbody>\n",
              "</table>\n",
              "</div>\n",
              "    <div class=\"colab-df-buttons\">\n",
              "\n",
              "  <div class=\"colab-df-container\">\n",
              "    <button class=\"colab-df-convert\" onclick=\"convertToInteractive('df-8cbf50d0-5d44-4a23-b4a6-0d8941e0e2c6')\"\n",
              "            title=\"Convert this dataframe to an interactive table.\"\n",
              "            style=\"display:none;\">\n",
              "\n",
              "  <svg xmlns=\"http://www.w3.org/2000/svg\" height=\"24px\" viewBox=\"0 -960 960 960\">\n",
              "    <path d=\"M120-120v-720h720v720H120Zm60-500h600v-160H180v160Zm220 220h160v-160H400v160Zm0 220h160v-160H400v160ZM180-400h160v-160H180v160Zm440 0h160v-160H620v160ZM180-180h160v-160H180v160Zm440 0h160v-160H620v160Z\"/>\n",
              "  </svg>\n",
              "    </button>\n",
              "\n",
              "  <style>\n",
              "    .colab-df-container {\n",
              "      display:flex;\n",
              "      gap: 12px;\n",
              "    }\n",
              "\n",
              "    .colab-df-convert {\n",
              "      background-color: #E8F0FE;\n",
              "      border: none;\n",
              "      border-radius: 50%;\n",
              "      cursor: pointer;\n",
              "      display: none;\n",
              "      fill: #1967D2;\n",
              "      height: 32px;\n",
              "      padding: 0 0 0 0;\n",
              "      width: 32px;\n",
              "    }\n",
              "\n",
              "    .colab-df-convert:hover {\n",
              "      background-color: #E2EBFA;\n",
              "      box-shadow: 0px 1px 2px rgba(60, 64, 67, 0.3), 0px 1px 3px 1px rgba(60, 64, 67, 0.15);\n",
              "      fill: #174EA6;\n",
              "    }\n",
              "\n",
              "    .colab-df-buttons div {\n",
              "      margin-bottom: 4px;\n",
              "    }\n",
              "\n",
              "    [theme=dark] .colab-df-convert {\n",
              "      background-color: #3B4455;\n",
              "      fill: #D2E3FC;\n",
              "    }\n",
              "\n",
              "    [theme=dark] .colab-df-convert:hover {\n",
              "      background-color: #434B5C;\n",
              "      box-shadow: 0px 1px 3px 1px rgba(0, 0, 0, 0.15);\n",
              "      filter: drop-shadow(0px 1px 2px rgba(0, 0, 0, 0.3));\n",
              "      fill: #FFFFFF;\n",
              "    }\n",
              "  </style>\n",
              "\n",
              "    <script>\n",
              "      const buttonEl =\n",
              "        document.querySelector('#df-8cbf50d0-5d44-4a23-b4a6-0d8941e0e2c6 button.colab-df-convert');\n",
              "      buttonEl.style.display =\n",
              "        google.colab.kernel.accessAllowed ? 'block' : 'none';\n",
              "\n",
              "      async function convertToInteractive(key) {\n",
              "        const element = document.querySelector('#df-8cbf50d0-5d44-4a23-b4a6-0d8941e0e2c6');\n",
              "        const dataTable =\n",
              "          await google.colab.kernel.invokeFunction('convertToInteractive',\n",
              "                                                    [key], {});\n",
              "        if (!dataTable) return;\n",
              "\n",
              "        const docLinkHtml = 'Like what you see? Visit the ' +\n",
              "          '<a target=\"_blank\" href=https://colab.research.google.com/notebooks/data_table.ipynb>data table notebook</a>'\n",
              "          + ' to learn more about interactive tables.';\n",
              "        element.innerHTML = '';\n",
              "        dataTable['output_type'] = 'display_data';\n",
              "        await google.colab.output.renderOutput(dataTable, element);\n",
              "        const docLink = document.createElement('div');\n",
              "        docLink.innerHTML = docLinkHtml;\n",
              "        element.appendChild(docLink);\n",
              "      }\n",
              "    </script>\n",
              "  </div>\n",
              "\n",
              "\n",
              "<div id=\"df-068b7c7a-e8b7-4e68-a631-5752c6766e2b\">\n",
              "  <button class=\"colab-df-quickchart\" onclick=\"quickchart('df-068b7c7a-e8b7-4e68-a631-5752c6766e2b')\"\n",
              "            title=\"Suggest charts\"\n",
              "            style=\"display:none;\">\n",
              "\n",
              "<svg xmlns=\"http://www.w3.org/2000/svg\" height=\"24px\"viewBox=\"0 0 24 24\"\n",
              "     width=\"24px\">\n",
              "    <g>\n",
              "        <path d=\"M19 3H5c-1.1 0-2 .9-2 2v14c0 1.1.9 2 2 2h14c1.1 0 2-.9 2-2V5c0-1.1-.9-2-2-2zM9 17H7v-7h2v7zm4 0h-2V7h2v10zm4 0h-2v-4h2v4z\"/>\n",
              "    </g>\n",
              "</svg>\n",
              "  </button>\n",
              "\n",
              "<style>\n",
              "  .colab-df-quickchart {\n",
              "      --bg-color: #E8F0FE;\n",
              "      --fill-color: #1967D2;\n",
              "      --hover-bg-color: #E2EBFA;\n",
              "      --hover-fill-color: #174EA6;\n",
              "      --disabled-fill-color: #AAA;\n",
              "      --disabled-bg-color: #DDD;\n",
              "  }\n",
              "\n",
              "  [theme=dark] .colab-df-quickchart {\n",
              "      --bg-color: #3B4455;\n",
              "      --fill-color: #D2E3FC;\n",
              "      --hover-bg-color: #434B5C;\n",
              "      --hover-fill-color: #FFFFFF;\n",
              "      --disabled-bg-color: #3B4455;\n",
              "      --disabled-fill-color: #666;\n",
              "  }\n",
              "\n",
              "  .colab-df-quickchart {\n",
              "    background-color: var(--bg-color);\n",
              "    border: none;\n",
              "    border-radius: 50%;\n",
              "    cursor: pointer;\n",
              "    display: none;\n",
              "    fill: var(--fill-color);\n",
              "    height: 32px;\n",
              "    padding: 0;\n",
              "    width: 32px;\n",
              "  }\n",
              "\n",
              "  .colab-df-quickchart:hover {\n",
              "    background-color: var(--hover-bg-color);\n",
              "    box-shadow: 0 1px 2px rgba(60, 64, 67, 0.3), 0 1px 3px 1px rgba(60, 64, 67, 0.15);\n",
              "    fill: var(--button-hover-fill-color);\n",
              "  }\n",
              "\n",
              "  .colab-df-quickchart-complete:disabled,\n",
              "  .colab-df-quickchart-complete:disabled:hover {\n",
              "    background-color: var(--disabled-bg-color);\n",
              "    fill: var(--disabled-fill-color);\n",
              "    box-shadow: none;\n",
              "  }\n",
              "\n",
              "  .colab-df-spinner {\n",
              "    border: 2px solid var(--fill-color);\n",
              "    border-color: transparent;\n",
              "    border-bottom-color: var(--fill-color);\n",
              "    animation:\n",
              "      spin 1s steps(1) infinite;\n",
              "  }\n",
              "\n",
              "  @keyframes spin {\n",
              "    0% {\n",
              "      border-color: transparent;\n",
              "      border-bottom-color: var(--fill-color);\n",
              "      border-left-color: var(--fill-color);\n",
              "    }\n",
              "    20% {\n",
              "      border-color: transparent;\n",
              "      border-left-color: var(--fill-color);\n",
              "      border-top-color: var(--fill-color);\n",
              "    }\n",
              "    30% {\n",
              "      border-color: transparent;\n",
              "      border-left-color: var(--fill-color);\n",
              "      border-top-color: var(--fill-color);\n",
              "      border-right-color: var(--fill-color);\n",
              "    }\n",
              "    40% {\n",
              "      border-color: transparent;\n",
              "      border-right-color: var(--fill-color);\n",
              "      border-top-color: var(--fill-color);\n",
              "    }\n",
              "    60% {\n",
              "      border-color: transparent;\n",
              "      border-right-color: var(--fill-color);\n",
              "    }\n",
              "    80% {\n",
              "      border-color: transparent;\n",
              "      border-right-color: var(--fill-color);\n",
              "      border-bottom-color: var(--fill-color);\n",
              "    }\n",
              "    90% {\n",
              "      border-color: transparent;\n",
              "      border-bottom-color: var(--fill-color);\n",
              "    }\n",
              "  }\n",
              "</style>\n",
              "\n",
              "  <script>\n",
              "    async function quickchart(key) {\n",
              "      const quickchartButtonEl =\n",
              "        document.querySelector('#' + key + ' button');\n",
              "      quickchartButtonEl.disabled = true;  // To prevent multiple clicks.\n",
              "      quickchartButtonEl.classList.add('colab-df-spinner');\n",
              "      try {\n",
              "        const charts = await google.colab.kernel.invokeFunction(\n",
              "            'suggestCharts', [key], {});\n",
              "      } catch (error) {\n",
              "        console.error('Error during call to suggestCharts:', error);\n",
              "      }\n",
              "      quickchartButtonEl.classList.remove('colab-df-spinner');\n",
              "      quickchartButtonEl.classList.add('colab-df-quickchart-complete');\n",
              "    }\n",
              "    (() => {\n",
              "      let quickchartButtonEl =\n",
              "        document.querySelector('#df-068b7c7a-e8b7-4e68-a631-5752c6766e2b button');\n",
              "      quickchartButtonEl.style.display =\n",
              "        google.colab.kernel.accessAllowed ? 'block' : 'none';\n",
              "    })();\n",
              "  </script>\n",
              "</div>\n",
              "\n",
              "  <div id=\"id_639acf15-0fc1-4536-bac8-5db902a41030\">\n",
              "    <style>\n",
              "      .colab-df-generate {\n",
              "        background-color: #E8F0FE;\n",
              "        border: none;\n",
              "        border-radius: 50%;\n",
              "        cursor: pointer;\n",
              "        display: none;\n",
              "        fill: #1967D2;\n",
              "        height: 32px;\n",
              "        padding: 0 0 0 0;\n",
              "        width: 32px;\n",
              "      }\n",
              "\n",
              "      .colab-df-generate:hover {\n",
              "        background-color: #E2EBFA;\n",
              "        box-shadow: 0px 1px 2px rgba(60, 64, 67, 0.3), 0px 1px 3px 1px rgba(60, 64, 67, 0.15);\n",
              "        fill: #174EA6;\n",
              "      }\n",
              "\n",
              "      [theme=dark] .colab-df-generate {\n",
              "        background-color: #3B4455;\n",
              "        fill: #D2E3FC;\n",
              "      }\n",
              "\n",
              "      [theme=dark] .colab-df-generate:hover {\n",
              "        background-color: #434B5C;\n",
              "        box-shadow: 0px 1px 3px 1px rgba(0, 0, 0, 0.15);\n",
              "        filter: drop-shadow(0px 1px 2px rgba(0, 0, 0, 0.3));\n",
              "        fill: #FFFFFF;\n",
              "      }\n",
              "    </style>\n",
              "    <button class=\"colab-df-generate\" onclick=\"generateWithVariable('data')\"\n",
              "            title=\"Generate code using this dataframe.\"\n",
              "            style=\"display:none;\">\n",
              "\n",
              "  <svg xmlns=\"http://www.w3.org/2000/svg\" height=\"24px\"viewBox=\"0 0 24 24\"\n",
              "       width=\"24px\">\n",
              "    <path d=\"M7,19H8.4L18.45,9,17,7.55,7,17.6ZM5,21V16.75L18.45,3.32a2,2,0,0,1,2.83,0l1.4,1.43a1.91,1.91,0,0,1,.58,1.4,1.91,1.91,0,0,1-.58,1.4L9.25,21ZM18.45,9,17,7.55Zm-12,3A5.31,5.31,0,0,0,4.9,8.1,5.31,5.31,0,0,0,1,6.5,5.31,5.31,0,0,0,4.9,4.9,5.31,5.31,0,0,0,6.5,1,5.31,5.31,0,0,0,8.1,4.9,5.31,5.31,0,0,0,12,6.5,5.46,5.46,0,0,0,6.5,12Z\"/>\n",
              "  </svg>\n",
              "    </button>\n",
              "    <script>\n",
              "      (() => {\n",
              "      const buttonEl =\n",
              "        document.querySelector('#id_639acf15-0fc1-4536-bac8-5db902a41030 button.colab-df-generate');\n",
              "      buttonEl.style.display =\n",
              "        google.colab.kernel.accessAllowed ? 'block' : 'none';\n",
              "\n",
              "      buttonEl.onclick = () => {\n",
              "        google.colab.notebook.generateWithVariable('data');\n",
              "      }\n",
              "      })();\n",
              "    </script>\n",
              "  </div>\n",
              "\n",
              "    </div>\n",
              "  </div>\n"
            ],
            "application/vnd.google.colaboratory.intrinsic+json": {
              "type": "dataframe",
              "variable_name": "data",
              "summary": "{\n  \"name\": \"data\",\n  \"rows\": 4,\n  \"fields\": [\n    {\n      \"column\": \"Content\",\n      \"properties\": {\n        \"dtype\": \"string\",\n        \"num_unique_values\": 4,\n        \"samples\": [\n          \"NLP techniques such as tokenization and sentiment analysis are crucial for text-based AI applications.\",\n          \"AI ethics focuses on fairness, accountability, and transparency in automated decision-making systems.\",\n          \"Machine learning enables systems to learn from data and improve performance without explicit programming.\"\n        ],\n        \"semantic_type\": \"\",\n        \"description\": \"\"\n      }\n    },\n    {\n      \"column\": \"Keywords\",\n      \"properties\": {\n        \"dtype\": \"string\",\n        \"num_unique_values\": 4,\n        \"samples\": [\n          \"NLP, tokenization, sentiment analysis, text processing, AI applications\",\n          \"AI ethics, fairness, accountability, transparency, decision-making\",\n          \"machine learning, supervised learning, data science, algorithms\"\n        ],\n        \"semantic_type\": \"\",\n        \"description\": \"\"\n      }\n    }\n  ]\n}"
            }
          },
          "metadata": {},
          "execution_count": 11
        }
      ]
    },
    {
      "cell_type": "code",
      "source": [
        "data['Content']=data['Content'].str.lower()"
      ],
      "metadata": {
        "id": "Jk662hTkWYsc",
        "colab": {
          "base_uri": "https://localhost:8080/"
        },
        "outputId": "c13bf12b-ff11-4884-922e-3d7d5dd18e1f"
      },
      "execution_count": 12,
      "outputs": [
        {
          "output_type": "stream",
          "name": "stderr",
          "text": [
            "<ipython-input-12-c4b8d16cab08>:1: SettingWithCopyWarning: \n",
            "A value is trying to be set on a copy of a slice from a DataFrame.\n",
            "Try using .loc[row_indexer,col_indexer] = value instead\n",
            "\n",
            "See the caveats in the documentation: https://pandas.pydata.org/pandas-docs/stable/user_guide/indexing.html#returning-a-view-versus-a-copy\n",
            "  data['Content']=data['Content'].str.lower()\n"
          ]
        }
      ]
    },
    {
      "cell_type": "code",
      "source": [
        "data['Content']"
      ],
      "metadata": {
        "colab": {
          "base_uri": "https://localhost:8080/",
          "height": 209
        },
        "id": "2S5z7tm0WYm1",
        "outputId": "3243724f-01bf-4bd8-b4ed-a6a378063151"
      },
      "execution_count": 13,
      "outputs": [
        {
          "output_type": "execute_result",
          "data": {
            "text/plain": [
              "0    machine learning enables systems to learn from...\n",
              "1    nlp techniques such as tokenization and sentim...\n",
              "2    deep learning utilizes neural networks to achi...\n",
              "3    ai ethics focuses on fairness, accountability,...\n",
              "Name: Content, dtype: object"
            ],
            "text/html": [
              "<div>\n",
              "<style scoped>\n",
              "    .dataframe tbody tr th:only-of-type {\n",
              "        vertical-align: middle;\n",
              "    }\n",
              "\n",
              "    .dataframe tbody tr th {\n",
              "        vertical-align: top;\n",
              "    }\n",
              "\n",
              "    .dataframe thead th {\n",
              "        text-align: right;\n",
              "    }\n",
              "</style>\n",
              "<table border=\"1\" class=\"dataframe\">\n",
              "  <thead>\n",
              "    <tr style=\"text-align: right;\">\n",
              "      <th></th>\n",
              "      <th>Content</th>\n",
              "    </tr>\n",
              "  </thead>\n",
              "  <tbody>\n",
              "    <tr>\n",
              "      <th>0</th>\n",
              "      <td>machine learning enables systems to learn from...</td>\n",
              "    </tr>\n",
              "    <tr>\n",
              "      <th>1</th>\n",
              "      <td>nlp techniques such as tokenization and sentim...</td>\n",
              "    </tr>\n",
              "    <tr>\n",
              "      <th>2</th>\n",
              "      <td>deep learning utilizes neural networks to achi...</td>\n",
              "    </tr>\n",
              "    <tr>\n",
              "      <th>3</th>\n",
              "      <td>ai ethics focuses on fairness, accountability,...</td>\n",
              "    </tr>\n",
              "  </tbody>\n",
              "</table>\n",
              "</div><br><label><b>dtype:</b> object</label>"
            ]
          },
          "metadata": {},
          "execution_count": 13
        }
      ]
    },
    {
      "cell_type": "code",
      "source": [
        "data_lower=''.join(data['Content'])"
      ],
      "metadata": {
        "id": "mfm4MMXXhd3J"
      },
      "execution_count": 14,
      "outputs": []
    },
    {
      "cell_type": "code",
      "source": [
        "data_lower"
      ],
      "metadata": {
        "colab": {
          "base_uri": "https://localhost:8080/",
          "height": 70
        },
        "id": "3UpLE1UBhd8N",
        "outputId": "9f2bba50-5804-4ba6-b4ba-70053a76feb0"
      },
      "execution_count": 15,
      "outputs": [
        {
          "output_type": "execute_result",
          "data": {
            "text/plain": [
              "'machine learning enables systems to learn from data and improve performance without explicit programming.nlp techniques such as tokenization and sentiment analysis are crucial for text-based ai applications.deep learning utilizes neural networks to achieve breakthroughs in image and speech recognition tasks.ai ethics focuses on fairness, accountability, and transparency in automated decision-making systems.'"
            ],
            "application/vnd.google.colaboratory.intrinsic+json": {
              "type": "string"
            }
          },
          "metadata": {},
          "execution_count": 15
        }
      ]
    },
    {
      "cell_type": "code",
      "source": [
        "###Removing special charater\n",
        "data['Content']=data['Content'].apply(lambda x: re.sub('[^a-zA-Z0-9-]+', \" \", str(x)))"
      ],
      "metadata": {
        "id": "xUB6QNUNheAS",
        "colab": {
          "base_uri": "https://localhost:8080/"
        },
        "outputId": "0d4f0f13-181e-4ab3-a1e5-fc684c1e8a47"
      },
      "execution_count": 16,
      "outputs": [
        {
          "output_type": "stream",
          "name": "stderr",
          "text": [
            "<ipython-input-16-b9210ce7604f>:2: SettingWithCopyWarning: \n",
            "A value is trying to be set on a copy of a slice from a DataFrame.\n",
            "Try using .loc[row_indexer,col_indexer] = value instead\n",
            "\n",
            "See the caveats in the documentation: https://pandas.pydata.org/pandas-docs/stable/user_guide/indexing.html#returning-a-view-versus-a-copy\n",
            "  data['Content']=data['Content'].apply(lambda x: re.sub('[^a-zA-Z0-9-]+', \" \", str(x)))\n"
          ]
        }
      ]
    },
    {
      "cell_type": "code",
      "source": [
        "df['Content']=df['Content'].apply(lambda x:re.sub('[^a-z A-z 0-9-]+', '',x))\n",
        "## Remove the stopswords\n",
        "df['Content']=df['Content'].apply(lambda x:\" \".join([y for y in x.split() if y not in stopwords.words('english')]))\n",
        "## Remove url\n",
        "df['Content']=df['Content'].apply(lambda x: re.sub(r'(http|https|ftp|ssh)://([\\w_-]+(?:(?:\\.[\\w_-]+)+))([\\w.,@?^=%&:/~+#-]*[\\w@?^=%&/~+#-])?', '' , str(x)))\n",
        "## Remove html tags\n",
        "df['Content']=df['Content'].apply(lambda x: BeautifulSoup(x, 'lxml').get_text())\n",
        "## Remove any additional spaces\n",
        "df['Content']=df['Content'].apply(lambda x: \" \".join(x.split()))"
      ],
      "metadata": {
        "id": "IxPWev0QheHl"
      },
      "execution_count": 17,
      "outputs": []
    },
    {
      "cell_type": "code",
      "source": [
        "def stemming(text):\n",
        "    obj=PorterStemmer()\n",
        "\n",
        "    stem_word=[obj.stem(word) for word in text.split()]\n",
        "\n",
        "    return stem_word"
      ],
      "metadata": {
        "id": "WhyKAGoMheSy"
      },
      "execution_count": 18,
      "outputs": []
    },
    {
      "cell_type": "code",
      "source": [
        "df[\"Content\"]=df[\"Content\"].apply(stemming)"
      ],
      "metadata": {
        "id": "X9-XXGeWheWu"
      },
      "execution_count": 19,
      "outputs": []
    },
    {
      "cell_type": "code",
      "source": [
        "df[\"Content\"][0]"
      ],
      "metadata": {
        "id": "auxZWoG0heaU",
        "colab": {
          "base_uri": "https://localhost:8080/"
        },
        "outputId": "92f5b218-2596-4a90-8b94-1bd2f49bc05f"
      },
      "execution_count": 20,
      "outputs": [
        {
          "output_type": "execute_result",
          "data": {
            "text/plain": [
              "['machin',\n",
              " 'learn',\n",
              " 'enabl',\n",
              " 'system',\n",
              " 'learn',\n",
              " 'data',\n",
              " 'improv',\n",
              " 'perform',\n",
              " 'without',\n",
              " 'explicit',\n",
              " 'program']"
            ]
          },
          "metadata": {},
          "execution_count": 20
        }
      ]
    },
    {
      "cell_type": "code",
      "source": [
        "###Lemmatizing\n",
        "def lemmitizer(text):\n",
        "    lemmatizing=WordNetLemmatizer()\n",
        "\n",
        "    lem_word=[lemmatizing.lemmatize(word) for word in text.split()]\n",
        "\n",
        "    return lem_word"
      ],
      "metadata": {
        "id": "qOOyzTKphehR"
      },
      "execution_count": 21,
      "outputs": []
    },
    {
      "cell_type": "code",
      "source": [],
      "metadata": {
        "id": "E6Jo0ZUnPBeY"
      },
      "execution_count": 21,
      "outputs": []
    },
    {
      "cell_type": "code",
      "source": [
        "df['Content']=df['Content'].apply(lambda x:lemmitizer(str(x)))"
      ],
      "metadata": {
        "id": "0c2W1r8nheli"
      },
      "execution_count": 22,
      "outputs": []
    },
    {
      "cell_type": "code",
      "source": [
        "df[\"Content\"][0]"
      ],
      "metadata": {
        "colab": {
          "base_uri": "https://localhost:8080/"
        },
        "id": "soRsp8QdPvvF",
        "outputId": "85f7e90a-4175-4aec-a445-7d98d9c17bb4"
      },
      "execution_count": 23,
      "outputs": [
        {
          "output_type": "execute_result",
          "data": {
            "text/plain": [
              "[\"['machin',\",\n",
              " \"'learn',\",\n",
              " \"'enabl',\",\n",
              " \"'system',\",\n",
              " \"'learn',\",\n",
              " \"'data',\",\n",
              " \"'improv',\",\n",
              " \"'perform',\",\n",
              " \"'without',\",\n",
              " \"'explicit',\",\n",
              " \"'program']\"]"
            ]
          },
          "metadata": {},
          "execution_count": 23
        }
      ]
    },
    {
      "cell_type": "code",
      "source": [
        "import gensim.downloader as api"
      ],
      "metadata": {
        "id": "GkkFfIHOhfGm"
      },
      "execution_count": 24,
      "outputs": []
    },
    {
      "cell_type": "code",
      "source": [
        "model = api.load('word2vec-google-news-300')"
      ],
      "metadata": {
        "colab": {
          "base_uri": "https://localhost:8080/"
        },
        "id": "XOY5CUpVQYI3",
        "outputId": "81880714-43bb-4333-d578-0f86a44eda3e"
      },
      "execution_count": 25,
      "outputs": [
        {
          "output_type": "stream",
          "name": "stdout",
          "text": [
            "[==================================================] 100.0% 1662.8/1662.8MB downloaded\n"
          ]
        }
      ]
    },
    {
      "cell_type": "code",
      "source": [
        "model['machin']"
      ],
      "metadata": {
        "colab": {
          "base_uri": "https://localhost:8080/"
        },
        "id": "CveY0GWxQYRh",
        "outputId": "761f74dd-4849-45f4-da4f-5e8bea08081e"
      },
      "execution_count": 26,
      "outputs": [
        {
          "output_type": "execute_result",
          "data": {
            "text/plain": [
              "array([-1.20117188e-01,  2.16674805e-03,  3.39355469e-02, -4.44335938e-02,\n",
              "       -4.88281250e-02,  2.69775391e-02, -1.01562500e-01,  4.25338745e-04,\n",
              "       -1.20605469e-01, -7.99560547e-03, -7.03125000e-02, -6.25000000e-02,\n",
              "       -1.25976562e-01,  2.91748047e-02,  3.97949219e-02,  1.74804688e-01,\n",
              "        3.00292969e-02,  1.08886719e-01, -2.68554688e-03, -6.25000000e-02,\n",
              "       -6.80541992e-03, -1.64062500e-01,  1.31835938e-01,  1.00097656e-01,\n",
              "       -2.31933594e-02,  2.44140625e-03, -9.66796875e-02,  9.03320312e-02,\n",
              "       -1.78527832e-03, -1.09375000e-01,  5.64575195e-03, -3.51562500e-02,\n",
              "       -5.05371094e-02, -2.22167969e-02, -6.39648438e-02, -9.76562500e-02,\n",
              "       -5.88378906e-02,  8.49609375e-02,  2.16064453e-02, -9.71679688e-02,\n",
              "       -5.22460938e-02, -6.40869141e-04, -4.88281250e-03, -8.12530518e-04,\n",
              "       -3.22265625e-02,  2.51464844e-02, -1.09863281e-01,  2.07519531e-02,\n",
              "       -1.25000000e-01, -8.46862793e-04, -2.05078125e-01,  9.42382812e-02,\n",
              "        1.13281250e-01,  1.51367188e-01, -5.98144531e-02,  5.83496094e-02,\n",
              "       -3.68652344e-02, -1.38671875e-01,  2.57568359e-02, -1.44531250e-01,\n",
              "       -1.02539062e-01,  4.37011719e-02, -9.61914062e-02,  1.20849609e-02,\n",
              "        2.70996094e-02, -2.27539062e-01, -1.47460938e-01, -2.77099609e-02,\n",
              "       -3.41796875e-02,  1.19628906e-01,  1.08398438e-01,  1.16210938e-01,\n",
              "        1.25000000e-01,  1.49414062e-01, -7.42187500e-02, -7.47070312e-02,\n",
              "        4.15039062e-02, -5.95703125e-02, -3.75976562e-02, -1.01562500e-01,\n",
              "       -8.64257812e-02, -8.17871094e-03, -4.51660156e-02, -3.11279297e-02,\n",
              "        7.22656250e-02,  4.02832031e-02,  3.27148438e-02,  1.86523438e-01,\n",
              "        1.88476562e-01,  5.81054688e-02,  3.22265625e-02, -3.17382812e-02,\n",
              "       -1.08886719e-01, -2.25830078e-02,  7.20214844e-03,  9.61914062e-02,\n",
              "        8.44726562e-02, -4.19921875e-02,  1.33789062e-01, -2.78320312e-02,\n",
              "       -4.44335938e-02,  3.90625000e-02, -7.71484375e-02, -6.34765625e-02,\n",
              "       -4.54101562e-02,  4.98046875e-02,  7.32421875e-02,  4.54101562e-02,\n",
              "        6.29882812e-02,  3.19824219e-02,  2.45361328e-02, -1.08886719e-01,\n",
              "       -2.20947266e-02, -4.66308594e-02,  6.56127930e-03,  4.05273438e-02,\n",
              "        9.94873047e-03,  5.88378906e-02,  6.34765625e-02, -8.54492188e-02,\n",
              "        1.91650391e-02,  1.53808594e-02, -4.88281250e-02, -4.39453125e-03,\n",
              "        1.48437500e-01, -2.88085938e-02, -1.06445312e-01,  1.90429688e-02,\n",
              "        1.54296875e-01,  8.59375000e-02, -8.05664062e-03,  4.29687500e-02,\n",
              "        8.15429688e-02, -5.71289062e-02, -9.27734375e-02,  9.08203125e-02,\n",
              "        5.44433594e-02,  3.57055664e-03,  2.38037109e-02,  8.25195312e-02,\n",
              "        1.21582031e-01, -1.34765625e-01,  3.02734375e-02,  3.97949219e-02,\n",
              "       -2.62451172e-02, -5.61523438e-02,  6.10351562e-02,  1.00097656e-01,\n",
              "       -1.27929688e-01, -2.25830078e-02,  1.73828125e-01, -1.22558594e-01,\n",
              "        1.30462646e-03,  5.20019531e-02,  2.45666504e-03,  2.99072266e-03,\n",
              "        9.88769531e-03,  7.61718750e-02, -5.78613281e-02, -8.74023438e-02,\n",
              "       -4.39453125e-03,  5.56640625e-02,  4.71191406e-02, -7.51953125e-02,\n",
              "       -3.73535156e-02, -1.53198242e-02,  2.70996094e-02,  1.57470703e-02,\n",
              "       -1.81640625e-01,  9.57031250e-02, -7.91015625e-02, -5.85937500e-02,\n",
              "        1.94091797e-02, -8.69140625e-02,  2.84423828e-02,  2.60009766e-02,\n",
              "        1.55273438e-01, -2.00195312e-01, -2.22167969e-02, -8.15429688e-02,\n",
              "       -5.71289062e-02,  3.51562500e-02, -2.24609375e-02, -1.05468750e-01,\n",
              "       -2.07519531e-02,  5.68847656e-02,  2.49023438e-02, -2.38037109e-02,\n",
              "       -2.64892578e-02, -5.46264648e-03,  3.66210938e-02,  1.66015625e-02,\n",
              "       -1.20117188e-01,  1.70898438e-02,  1.13281250e-01,  3.08227539e-03,\n",
              "        6.17675781e-02, -8.48388672e-03,  2.09960938e-02, -4.00390625e-02,\n",
              "       -1.78710938e-01,  2.18750000e-01,  2.15148926e-03, -1.21582031e-01,\n",
              "       -1.52587891e-02, -1.57226562e-01,  4.83398438e-02,  5.82885742e-03,\n",
              "       -4.76074219e-02, -7.37304688e-02,  4.63867188e-02,  6.15234375e-02,\n",
              "       -1.06445312e-01,  2.11181641e-02, -7.03125000e-02, -3.66210938e-02,\n",
              "       -6.39648438e-02,  3.85742188e-02, -1.36566162e-03, -6.68334961e-03,\n",
              "       -1.38549805e-02,  1.07421875e-01, -9.88769531e-03,  1.62353516e-02,\n",
              "       -5.41992188e-02, -2.01416016e-02, -5.73730469e-02,  9.96093750e-02,\n",
              "        5.95703125e-02, -1.43554688e-01, -9.70458984e-03,  9.65118408e-04,\n",
              "       -5.15136719e-02, -5.15136719e-02, -6.71386719e-03,  5.81054688e-02,\n",
              "        4.78515625e-02, -1.42097473e-04,  6.93359375e-02,  2.36816406e-02,\n",
              "        7.56835938e-02,  4.76074219e-02, -3.14712524e-04,  3.34472656e-02,\n",
              "        3.36914062e-02, -2.56347656e-02, -1.55273438e-01,  1.68945312e-01,\n",
              "       -8.98437500e-02, -8.10546875e-02, -5.32226562e-02,  8.30078125e-02,\n",
              "        1.73339844e-02,  2.51464844e-02,  1.37329102e-02, -1.37695312e-01,\n",
              "        1.02050781e-01, -6.29882812e-02,  7.66601562e-02,  4.19921875e-02,\n",
              "        2.61230469e-02, -9.46044922e-03,  1.47460938e-01, -8.74023438e-02,\n",
              "       -7.08007812e-02,  1.05957031e-01, -1.17187500e-02,  1.06811523e-02,\n",
              "       -5.71289062e-02,  1.16210938e-01, -1.46484375e-01,  7.81250000e-02,\n",
              "       -6.98242188e-02, -3.83300781e-02,  1.25000000e-01,  1.70898438e-02,\n",
              "       -1.12304688e-01, -4.51660156e-02, -2.50244141e-02,  2.48046875e-01,\n",
              "       -1.41601562e-01,  1.29882812e-01, -1.11083984e-02, -2.31933594e-02,\n",
              "        1.89208984e-02,  2.41088867e-03,  1.37329102e-02, -2.24609375e-02,\n",
              "        5.14984131e-04,  1.05590820e-02, -4.46777344e-02,  4.49218750e-02,\n",
              "       -2.80761719e-02, -2.02636719e-02, -6.68945312e-02, -2.51953125e-01,\n",
              "       -8.30078125e-02,  6.00585938e-02, -9.91210938e-02,  1.34277344e-02],\n",
              "      dtype=float32)"
            ]
          },
          "metadata": {},
          "execution_count": 26
        }
      ]
    },
    {
      "cell_type": "code",
      "source": [
        "from nltk.tokenize import word_tokenize,sent_tokenize\n"
      ],
      "metadata": {
        "id": "TdZ9lPDtWqQC"
      },
      "execution_count": 27,
      "outputs": []
    },
    {
      "cell_type": "code",
      "source": [
        "row_text=sent_tokenize(data_lower)\n",
        "print(row_text)"
      ],
      "metadata": {
        "colab": {
          "base_uri": "https://localhost:8080/"
        },
        "id": "xoqQpvyPXG_9",
        "outputId": "d7d6fcfe-7a8f-4c5f-9888-d1c0a340cbcc"
      },
      "execution_count": 28,
      "outputs": [
        {
          "output_type": "stream",
          "name": "stdout",
          "text": [
            "['machine learning enables systems to learn from data and improve performance without explicit programming.nlp techniques such as tokenization and sentiment analysis are crucial for text-based ai applications.deep learning utilizes neural networks to achieve breakthroughs in image and speech recognition tasks.ai ethics focuses on fairness, accountability, and transparency in automated decision-making systems.']\n"
          ]
        }
      ]
    },
    {
      "cell_type": "code",
      "source": [],
      "metadata": {
        "id": "bcpS91bRXGvY"
      },
      "execution_count": 28,
      "outputs": []
    },
    {
      "cell_type": "code",
      "source": [
        "data=[]\n",
        "for i in row_text:\n",
        "  data.append(simple_preprocess(i))\n",
        "\n",
        "print(data)\n",
        "print(len(data))"
      ],
      "metadata": {
        "colab": {
          "base_uri": "https://localhost:8080/"
        },
        "id": "WQst7y-RQYX2",
        "outputId": "67202eb7-629b-44af-d0b3-b8d50d0d298d"
      },
      "execution_count": 29,
      "outputs": [
        {
          "output_type": "stream",
          "name": "stdout",
          "text": [
            "[['machine', 'learning', 'enables', 'systems', 'to', 'learn', 'from', 'data', 'and', 'improve', 'performance', 'without', 'explicit', 'programming', 'nlp', 'techniques', 'such', 'as', 'tokenization', 'and', 'sentiment', 'analysis', 'are', 'crucial', 'for', 'text', 'based', 'ai', 'applications', 'deep', 'learning', 'utilizes', 'neural', 'networks', 'to', 'achieve', 'breakthroughs', 'in', 'image', 'and', 'speech', 'recognition', 'tasks', 'ai', 'ethics', 'focuses', 'on', 'fairness', 'accountability', 'and', 'transparency', 'in', 'automated', 'decision', 'making', 'systems']]\n",
            "1\n"
          ]
        }
      ]
    },
    {
      "cell_type": "code",
      "source": [
        "from gensim.models import Word2Vec,KeyedVectors\n",
        "import gensim"
      ],
      "metadata": {
        "id": "pYfw6Rm0X7tb"
      },
      "execution_count": 30,
      "outputs": []
    },
    {
      "cell_type": "code",
      "source": [
        "custom_model=gensim.models.Word2Vec(window=10,min_count=1,vector_size=150)"
      ],
      "metadata": {
        "id": "LxcJM9cYQYbD"
      },
      "execution_count": 31,
      "outputs": []
    },
    {
      "cell_type": "code",
      "source": [
        "custom_model.build_vocab(data)"
      ],
      "metadata": {
        "id": "bYAhali_aIxQ"
      },
      "execution_count": 32,
      "outputs": []
    },
    {
      "cell_type": "code",
      "source": [
        "custom_model.corpus_count"
      ],
      "metadata": {
        "colab": {
          "base_uri": "https://localhost:8080/"
        },
        "id": "x3MBK5TDaIrS",
        "outputId": "375fcfbb-d589-4674-8279-baba0c019e21"
      },
      "execution_count": 33,
      "outputs": [
        {
          "output_type": "execute_result",
          "data": {
            "text/plain": [
              "1"
            ]
          },
          "metadata": {},
          "execution_count": 33
        }
      ]
    },
    {
      "cell_type": "code",
      "source": [
        "custom_model.epochs\n"
      ],
      "metadata": {
        "colab": {
          "base_uri": "https://localhost:8080/"
        },
        "id": "qX8T-i9mQYiF",
        "outputId": "dac1987e-557a-4757-fec0-d889f4c6d944"
      },
      "execution_count": 34,
      "outputs": [
        {
          "output_type": "execute_result",
          "data": {
            "text/plain": [
              "5"
            ]
          },
          "metadata": {},
          "execution_count": 34
        }
      ]
    },
    {
      "cell_type": "code",
      "source": [
        "custom_model.corpus_total_words"
      ],
      "metadata": {
        "colab": {
          "base_uri": "https://localhost:8080/"
        },
        "id": "or6UTmqAQYlr",
        "outputId": "a54149d4-9104-49cf-80bf-11700659ce1e"
      },
      "execution_count": 35,
      "outputs": [
        {
          "output_type": "execute_result",
          "data": {
            "text/plain": [
              "56"
            ]
          },
          "metadata": {},
          "execution_count": 35
        }
      ]
    },
    {
      "cell_type": "code",
      "source": [
        "custom_model.train(data,total_examples=custom_model.corpus_count, epochs=5)"
      ],
      "metadata": {
        "colab": {
          "base_uri": "https://localhost:8080/"
        },
        "id": "60lDCyZ4QYue",
        "outputId": "008a43e8-82d1-4487-b428-19ed57d7ad22"
      },
      "execution_count": 36,
      "outputs": [
        {
          "output_type": "execute_result",
          "data": {
            "text/plain": [
              "(84, 280)"
            ]
          },
          "metadata": {},
          "execution_count": 36
        }
      ]
    },
    {
      "cell_type": "code",
      "source": [
        "custom_model.wv[\"machine\"]"
      ],
      "metadata": {
        "id": "4q8du1gtNUFM",
        "colab": {
          "base_uri": "https://localhost:8080/"
        },
        "outputId": "6877a575-5bb5-418d-927f-512768d6c58c"
      },
      "execution_count": 37,
      "outputs": [
        {
          "output_type": "execute_result",
          "data": {
            "text/plain": [
              "array([ 3.4068385e-03,  6.6120136e-03, -3.7762285e-03,  5.5845611e-04,\n",
              "        2.8916579e-03, -1.8364637e-03,  4.2648689e-04,  5.8855559e-03,\n",
              "        5.1506618e-03, -4.3078288e-03, -2.1352356e-03,  6.1473497e-03,\n",
              "       -2.1190730e-04, -6.3736849e-03, -4.7915702e-04, -4.5326464e-03,\n",
              "        6.1444176e-04,  5.4556323e-04, -2.9342782e-03, -3.0604429e-03,\n",
              "        5.8684028e-03,  3.0562710e-03,  1.7205365e-03,  1.2322898e-03,\n",
              "        5.4878355e-03, -3.3295779e-03,  4.0726699e-03, -6.5878313e-04,\n",
              "       -5.1094401e-03, -6.4602559e-03, -1.1193450e-03,  5.4128300e-03,\n",
              "        1.4739644e-03, -5.9851874e-03,  8.1904104e-04, -2.4173020e-03,\n",
              "       -2.7038371e-03,  5.4231281e-03,  3.8824561e-03,  2.4244252e-04,\n",
              "        1.6361756e-03,  5.9986580e-04, -6.6128979e-03,  1.9918294e-03,\n",
              "        4.7902013e-03,  2.6645483e-03,  1.6441492e-03, -2.3634203e-03,\n",
              "        1.5569715e-03, -5.0857756e-03,  2.8118056e-03,  1.5968551e-03,\n",
              "       -2.7553970e-04, -3.9688192e-04,  1.7557103e-03,  1.4830790e-03,\n",
              "        9.8894525e-04,  6.0863467e-03,  2.3520691e-03,  9.2849950e-04,\n",
              "       -1.9527264e-03, -4.0438077e-03, -6.2143463e-03, -2.1717555e-03,\n",
              "        2.9017024e-03,  5.0509353e-03,  4.2200627e-04, -3.1840662e-03,\n",
              "        2.3956688e-03, -2.5996841e-03, -5.0265779e-04,  5.9094592e-03,\n",
              "        5.4489509e-03, -2.8572587e-04, -3.9383410e-03,  2.4547908e-03,\n",
              "        6.5471325e-03,  5.7827001e-03, -1.2731694e-03,  4.7667455e-03,\n",
              "        6.1825193e-03, -6.3720834e-03,  5.9216581e-03,  1.7480483e-05,\n",
              "       -3.4622517e-03,  2.4522387e-03,  5.9743398e-03, -4.8270980e-03,\n",
              "        4.5810794e-03, -4.2910194e-03, -5.1915143e-03,  3.6666894e-03,\n",
              "       -3.0516293e-03,  3.1783127e-03,  4.9149096e-03,  6.4385827e-03,\n",
              "        3.8103566e-03, -5.9137866e-03,  2.1619266e-03, -5.9904149e-03,\n",
              "       -2.4239882e-04,  6.5245545e-03, -3.4117966e-03,  2.7304117e-03,\n",
              "       -3.8186545e-03, -5.3671333e-03,  5.3447853e-03,  2.1707120e-03,\n",
              "        4.9121277e-03,  1.9519342e-03,  7.7240600e-04,  2.4787858e-03,\n",
              "       -5.6160954e-03,  4.3910760e-03, -2.9924670e-03,  3.0754334e-03,\n",
              "       -3.6395176e-03,  6.9986063e-04,  2.6739982e-03, -1.6530773e-03,\n",
              "       -5.0221109e-03, -4.0258709e-03, -6.6228523e-03,  6.4554764e-03,\n",
              "       -2.9258770e-03, -7.0220872e-04, -6.0194451e-03, -3.0531932e-03,\n",
              "       -3.2633990e-03,  2.0178794e-03,  3.7676957e-03,  2.3366737e-03,\n",
              "        6.5690605e-03,  1.2601700e-03,  6.5852185e-03,  5.0340802e-03,\n",
              "        1.8408764e-03,  1.4264929e-03, -5.0039613e-03, -1.5691712e-03,\n",
              "        3.7631963e-03, -5.4258741e-03,  1.5083866e-03, -5.0552757e-03,\n",
              "        6.4320276e-03, -8.3221508e-05,  6.1037741e-04, -3.1837723e-03,\n",
              "        4.0806658e-03, -4.7560050e-03], dtype=float32)"
            ]
          },
          "metadata": {},
          "execution_count": 37
        }
      ]
    },
    {
      "cell_type": "code",
      "source": [
        "custom_model.wv[\"neural\"]"
      ],
      "metadata": {
        "colab": {
          "base_uri": "https://localhost:8080/"
        },
        "id": "k6WX08pp4Aqc",
        "outputId": "2a585acb-9bf5-4fef-aefe-2ec507873f7d"
      },
      "execution_count": 38,
      "outputs": [
        {
          "output_type": "execute_result",
          "data": {
            "text/plain": [
              "array([ 1.3454882e-03,  5.5051725e-03, -5.5338303e-03, -5.8369357e-03,\n",
              "       -3.6179926e-04, -1.2643291e-03, -1.5652069e-03, -4.0050191e-04,\n",
              "       -3.3732918e-03, -5.3446414e-03,  5.5057262e-03, -2.2351830e-03,\n",
              "       -1.8921822e-03, -1.0975602e-03, -8.2729431e-04, -6.1195777e-03,\n",
              "       -1.2063241e-03, -8.9708733e-04,  5.7736081e-03, -5.3080707e-03,\n",
              "       -3.1618744e-03, -1.2590862e-03,  1.9152787e-03, -4.0057539e-03,\n",
              "       -3.6946251e-03, -5.3034863e-03,  3.6936265e-03, -5.8160475e-03,\n",
              "       -2.1675040e-03,  1.9155550e-04,  9.6587563e-04, -6.6292440e-03,\n",
              "        5.7859020e-03, -1.3693990e-03,  2.2952848e-04, -5.8635697e-03,\n",
              "       -5.4404950e-03,  2.5246125e-03,  2.6741619e-03,  1.9951300e-03,\n",
              "        3.9062919e-03, -4.6247197e-03, -8.2410820e-04, -1.8109682e-03,\n",
              "       -9.4725064e-04,  2.9835538e-03,  9.2472817e-04, -4.9660029e-03,\n",
              "        2.1603380e-03,  4.1748490e-03, -4.0644617e-03,  2.1619219e-03,\n",
              "       -2.8709832e-03,  5.8871419e-03,  2.7502319e-03,  1.3499280e-03,\n",
              "       -6.7447126e-04, -6.0703647e-03,  5.7654544e-03, -1.2230378e-03,\n",
              "        4.9266475e-03,  2.5106743e-03, -5.5123321e-03, -4.1540421e-04,\n",
              "        1.8318207e-03, -1.7173778e-03,  6.4835828e-03, -3.3305082e-03,\n",
              "       -4.7797635e-03,  2.5237137e-03, -2.3817129e-03, -4.6004313e-03,\n",
              "        1.3624696e-03,  3.5099343e-03, -3.6720696e-03, -2.9261732e-03,\n",
              "       -4.7887410e-03,  1.0403449e-03, -3.1675538e-03,  5.6246636e-03,\n",
              "        4.7543150e-04,  1.2330967e-03, -2.2338373e-03,  4.9173506e-03,\n",
              "       -4.4061628e-04, -5.4785856e-03, -4.8930715e-03,  1.3940524e-04,\n",
              "        5.1577399e-03,  2.0503732e-03, -3.5545917e-03, -4.5084967e-03,\n",
              "       -6.5687709e-03,  2.6237462e-03, -6.3403663e-03,  2.1236879e-03,\n",
              "        1.1116954e-03, -5.4423971e-04, -6.6388119e-03,  3.9314926e-03,\n",
              "       -5.2746378e-05, -6.6308612e-03, -5.0138910e-03,  5.7114083e-03,\n",
              "        1.2561469e-03, -5.4593887e-03, -5.3978962e-04,  3.6041094e-03,\n",
              "       -6.2196599e-03, -4.5932285e-03, -6.8259443e-04, -6.5136119e-03,\n",
              "        3.2750607e-04,  1.2935827e-03,  5.6929477e-03,  6.6251110e-04,\n",
              "        8.7761570e-04,  3.2622369e-03, -2.8667329e-03,  4.8204819e-03,\n",
              "        1.0492386e-04, -4.4696507e-04, -6.4534880e-03,  3.4004016e-04,\n",
              "        4.5373691e-03,  1.1875620e-03, -5.4063601e-03, -2.2150122e-03,\n",
              "       -4.0294998e-03,  4.0219165e-03, -4.3195724e-03,  3.5176908e-03,\n",
              "       -3.5059513e-03, -4.5618792e-03, -5.0577666e-03,  2.5401306e-03,\n",
              "       -5.8708070e-03, -3.8123799e-03, -4.7011659e-03, -2.8710871e-03,\n",
              "       -2.6788258e-03,  9.9486299e-04,  4.3262895e-03, -7.9141121e-04,\n",
              "       -3.6449605e-03,  1.0381541e-03,  3.7529876e-03, -3.5158044e-03,\n",
              "       -3.5667361e-03,  3.4382772e-03], dtype=float32)"
            ]
          },
          "metadata": {},
          "execution_count": 38
        }
      ]
    },
    {
      "cell_type": "code",
      "source": [
        "custom_model.wv[\"networks\"]"
      ],
      "metadata": {
        "colab": {
          "base_uri": "https://localhost:8080/"
        },
        "id": "AsOTgFvX4AwA",
        "outputId": "ee0c813d-e55f-41a5-eda9-349872b59756"
      },
      "execution_count": 39,
      "outputs": [
        {
          "output_type": "execute_result",
          "data": {
            "text/plain": [
              "array([-2.8519630e-03, -4.2593805e-03,  2.6527953e-03, -1.9503585e-03,\n",
              "       -4.7834693e-03,  2.4470019e-03, -2.2149531e-03, -3.4655340e-03,\n",
              "        1.7526476e-03,  4.5692394e-03,  4.2675822e-03,  9.9359357e-05,\n",
              "        5.7667056e-03,  1.9621102e-03,  4.3787966e-03, -5.9971330e-04,\n",
              "        1.4060171e-03,  4.1091670e-03, -6.5291007e-03,  3.8858152e-03,\n",
              "        8.5800886e-04,  4.0565045e-03, -9.6373243e-04, -1.7977969e-03,\n",
              "       -3.7207992e-03, -1.8975949e-03, -1.7139856e-03, -3.4313861e-03,\n",
              "        6.4708630e-04,  5.3269444e-03,  3.4255863e-03, -5.1000533e-03,\n",
              "       -4.9460935e-03, -1.9290273e-03,  2.6047763e-03, -6.2120454e-03,\n",
              "        4.0811570e-03,  2.0777679e-03, -1.8811218e-03,  6.1293934e-03,\n",
              "        5.3740549e-03,  4.7651213e-04,  3.2187747e-03, -6.2019136e-03,\n",
              "       -5.8588455e-03, -1.9643435e-03,  6.1842091e-03,  2.1562313e-03,\n",
              "        3.7417270e-03, -4.5137666e-03,  2.8297694e-03,  2.6282866e-04,\n",
              "       -6.0580729e-04, -2.1645895e-03,  3.3099803e-03, -6.0667167e-03,\n",
              "        3.4114949e-03,  3.7765319e-03, -1.6215905e-03, -2.8003303e-03,\n",
              "       -4.9281055e-03, -4.2494177e-03, -3.4047405e-03,  2.0990404e-03,\n",
              "       -3.1972337e-03, -7.9914095e-04, -5.9487494e-03, -2.3399361e-03,\n",
              "       -5.2201748e-04, -5.2957232e-03,  2.1675595e-03,  6.5025957e-03,\n",
              "        2.9268241e-03,  1.2451616e-03, -3.2451581e-03, -7.5604278e-04,\n",
              "        1.4959947e-03,  1.1582493e-03,  5.8751083e-03, -6.2246958e-04,\n",
              "        4.6627750e-03,  3.8569036e-03,  2.0271493e-03,  4.8816856e-03,\n",
              "       -3.2959755e-03, -2.6383298e-03,  4.6502072e-03,  5.7417108e-03,\n",
              "        2.1032342e-03, -2.7302408e-03,  5.0935126e-03,  1.8149932e-03,\n",
              "       -1.5253703e-04,  5.9089460e-03,  2.8710787e-03,  2.6342957e-03,\n",
              "       -6.1082842e-06, -5.9495997e-03, -2.0800368e-03,  1.6233452e-03,\n",
              "       -3.7385344e-03,  4.7479342e-03,  4.9640164e-03, -5.9655784e-03,\n",
              "       -3.5881854e-03, -3.9898357e-03, -4.3824356e-04, -1.1986208e-03,\n",
              "       -1.3621306e-03, -1.4726972e-03,  2.3797695e-03,  6.4098383e-03,\n",
              "       -3.0604824e-03, -5.5221408e-03,  2.4943820e-03, -4.3067536e-03,\n",
              "        4.4572647e-03,  1.7761318e-03, -5.2416292e-03, -5.1703318e-03,\n",
              "       -6.1664605e-03,  1.5680543e-03,  1.8259231e-03,  1.7467920e-03,\n",
              "        1.1615912e-04,  6.9572288e-04,  2.0486594e-03, -1.0408934e-03,\n",
              "       -5.3552785e-03, -4.1510264e-04,  2.4710495e-03, -1.7292659e-03,\n",
              "       -1.4211797e-03, -1.5001997e-03,  4.8459102e-03, -2.0269474e-03,\n",
              "        6.2957145e-03, -2.5877475e-03, -6.6478723e-03, -4.3672808e-03,\n",
              "       -2.9152115e-03,  8.2985958e-04,  3.4156148e-03,  1.4195633e-03,\n",
              "        6.0292650e-03,  6.0048181e-04,  3.7559199e-03,  1.0738850e-04,\n",
              "       -1.4114054e-03,  4.1454206e-03], dtype=float32)"
            ]
          },
          "metadata": {},
          "execution_count": 39
        }
      ]
    },
    {
      "cell_type": "code",
      "source": [
        "custom_model.wv.most_similar(\"machine\")"
      ],
      "metadata": {
        "colab": {
          "base_uri": "https://localhost:8080/"
        },
        "id": "18-Ez-n74A0u",
        "outputId": "48c09d37-5be2-43bf-bfba-8e0b206c7d00"
      },
      "execution_count": 40,
      "outputs": [
        {
          "output_type": "execute_result",
          "data": {
            "text/plain": [
              "[('systems', 0.1537400484085083),\n",
              " ('speech', 0.12017432600259781),\n",
              " ('explicit', 0.11587011069059372),\n",
              " ('in', 0.10119498521089554),\n",
              " ('based', 0.08237767219543457),\n",
              " ('and', 0.07640978693962097),\n",
              " ('recognition', 0.073005810379982),\n",
              " ('from', 0.07189981639385223),\n",
              " ('learn', 0.06939446926116943),\n",
              " ('networks', 0.05888475850224495)]"
            ]
          },
          "metadata": {},
          "execution_count": 40
        }
      ]
    },
    {
      "cell_type": "code",
      "source": [
        "custom_model.wv.most_similar(\"networks\")"
      ],
      "metadata": {
        "colab": {
          "base_uri": "https://localhost:8080/"
        },
        "id": "z29MQKcU4A5j",
        "outputId": "61cf31d9-496d-4a4c-a21b-1f1fda16f108"
      },
      "execution_count": 41,
      "outputs": [
        {
          "output_type": "execute_result",
          "data": {
            "text/plain": [
              "[('sentiment', 0.1916099637746811),\n",
              " ('focuses', 0.18935221433639526),\n",
              " ('in', 0.16354772448539734),\n",
              " ('to', 0.13396573066711426),\n",
              " ('systems', 0.13168847560882568),\n",
              " ('explicit', 0.1115737110376358),\n",
              " ('are', 0.10854177176952362),\n",
              " ('tasks', 0.08399340510368347),\n",
              " ('speech', 0.08070135861635208),\n",
              " ('as', 0.07904023677110672)]"
            ]
          },
          "metadata": {},
          "execution_count": 41
        }
      ]
    },
    {
      "cell_type": "code",
      "source": [
        "custom_model.wv.similarity(\"machine\",\"networks\")"
      ],
      "metadata": {
        "colab": {
          "base_uri": "https://localhost:8080/"
        },
        "id": "PSxfQfKt4A_G",
        "outputId": "4087a8f9-d028-4c69-bf4d-437d3de079d9"
      },
      "execution_count": 42,
      "outputs": [
        {
          "output_type": "execute_result",
          "data": {
            "text/plain": [
              "0.058884773"
            ]
          },
          "metadata": {},
          "execution_count": 42
        }
      ]
    },
    {
      "cell_type": "code",
      "source": [
        "custom_model.wv.doesnt_match([\"machine\",\"networks\",\"neural\"])"
      ],
      "metadata": {
        "colab": {
          "base_uri": "https://localhost:8080/",
          "height": 35
        },
        "id": "ESDx0ujU7Qv-",
        "outputId": "84343074-81be-49fd-8d48-46c2dcb87985"
      },
      "execution_count": 43,
      "outputs": [
        {
          "output_type": "execute_result",
          "data": {
            "text/plain": [
              "'neural'"
            ],
            "application/vnd.google.colaboratory.intrinsic+json": {
              "type": "string"
            }
          },
          "metadata": {},
          "execution_count": 43
        }
      ]
    },
    {
      "cell_type": "code",
      "source": [
        "pca = PCA(n_components=2)\n"
      ],
      "metadata": {
        "id": "FR2yAv6y7Q2n"
      },
      "execution_count": 56,
      "outputs": []
    },
    {
      "cell_type": "code",
      "source": [
        "X = custom_model.wv[custom_model.wv.index_to_key]"
      ],
      "metadata": {
        "id": "Lis_1_OAzLrn"
      },
      "execution_count": 53,
      "outputs": []
    },
    {
      "cell_type": "code",
      "source": [
        "X"
      ],
      "metadata": {
        "colab": {
          "base_uri": "https://localhost:8080/"
        },
        "id": "-OGRAd24zOZU",
        "outputId": "aba2e51b-b0da-4aca-b9d7-deaadb9049af"
      },
      "execution_count": 54,
      "outputs": [
        {
          "output_type": "execute_result",
          "data": {
            "text/plain": [
              "array([[-0.00032706,  0.00012073,  0.00341253, ..., -0.0010208 ,\n",
              "         0.00103179,  0.00114895],\n",
              "       [ 0.00522075, -0.00635773, -0.00013649, ...,  0.00034634,\n",
              "         0.00548228, -0.0047001 ],\n",
              "       [-0.00548694,  0.00619004, -0.00013207, ...,  0.00013997,\n",
              "         0.00317463, -0.00475798],\n",
              "       ...,\n",
              "       [ 0.00262866, -0.00330489,  0.00425459, ..., -0.00398997,\n",
              "         0.00405357, -0.0029316 ],\n",
              "       [ 0.00205679, -0.00106988, -0.0007987 , ...,  0.00561167,\n",
              "        -0.00109012, -0.00295531],\n",
              "       [ 0.00340684,  0.00661201, -0.00377623, ..., -0.00318377,\n",
              "         0.00408067, -0.00475601]], dtype=float32)"
            ]
          },
          "metadata": {},
          "execution_count": 54
        }
      ]
    },
    {
      "cell_type": "code",
      "source": [
        "pca_transform = pca.fit_transform(X)\n",
        "\n",
        "# Create the plot\n",
        "plt.figure(figsize=(10, 8))\n",
        "plt.scatter(pca_transform[:, 0], pca_transform[:, 1], c='skyblue', edgecolor='k')\n",
        "\n",
        "# Annotate points with word labels\n",
        "for i, word in enumerate(custom_model.wv.index_to_key):\n",
        "    plt.text(pca_transform[i, 0] + 0.02, pca_transform[i, 1] + 0.02, word, fontsize=9)\n",
        "\n",
        "plt.title(\"Word Embeddings PCA Projection\")\n",
        "plt.xlabel(\"Principal Component 1\")\n",
        "plt.ylabel(\"Principal Component 2\")\n",
        "plt.grid(True, linestyle='--', alpha=0.7)\n",
        "plt.show()"
      ],
      "metadata": {
        "id": "fMDKl06e7Q6s",
        "colab": {
          "base_uri": "https://localhost:8080/",
          "height": 944
        },
        "outputId": "2d77183e-c047-4f3e-ee1d-5c04c977cb06"
      },
      "execution_count": 55,
      "outputs": [
        {
          "output_type": "display_data",
          "data": {
            "text/plain": [
              "<Figure size 1000x800 with 1 Axes>"
            ],
            "image/png": "[encoded data removed]"
          },
          "metadata": {}
        }
      ]
    },
    {
      "cell_type": "code",
      "source": [],
      "metadata": {
        "id": "ayMqYV2f7Q_Q"
      },
      "execution_count": 43,
      "outputs": []
    },
    {
      "cell_type": "code",
      "source": [],
      "metadata": {
        "id": "tpqdNJfZ7RFu"
      },
      "execution_count": 43,
      "outputs": []
    },
    {
      "cell_type": "code",
      "source": [],
      "metadata": {
        "id": "6mAlU4Sp7RLT"
      },
      "execution_count": 43,
      "outputs": []
    },
    {
      "cell_type": "code",
      "source": [],
      "metadata": {
        "id": "J95DD5zv4BBs"
      },
      "execution_count": 43,
      "outputs": []
    }
  ]
}